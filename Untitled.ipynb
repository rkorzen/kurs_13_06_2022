{
 "cells": [
  {
   "cell_type": "code",
   "execution_count": 2,
   "id": "0fb4ba51",
   "metadata": {},
   "outputs": [
    {
     "data": {
      "text/plain": [
       "False"
      ]
     },
     "execution_count": 2,
     "metadata": {},
     "output_type": "execute_result"
    }
   ],
   "source": [
    "(0.1 + 0.1 + 0.1) == 0.3"
   ]
  },
  {
   "cell_type": "code",
   "execution_count": 3,
   "id": "a998620c",
   "metadata": {},
   "outputs": [
    {
     "data": {
      "text/plain": [
       "0.30000000000000004"
      ]
     },
     "execution_count": 3,
     "metadata": {},
     "output_type": "execute_result"
    }
   ],
   "source": [
    "0.1 + 0.1 + 0.1"
   ]
  },
  {
   "cell_type": "code",
   "execution_count": 4,
   "id": "7f00d6eb",
   "metadata": {},
   "outputs": [
    {
     "data": {
      "text/plain": [
       "True"
      ]
     },
     "execution_count": 4,
     "metadata": {},
     "output_type": "execute_result"
    }
   ],
   "source": [
    "True == 1"
   ]
  },
  {
   "cell_type": "code",
   "execution_count": 5,
   "id": "4769fffb",
   "metadata": {},
   "outputs": [
    {
     "name": "stderr",
     "output_type": "stream",
     "text": [
      "<>:1: SyntaxWarning: \"is\" with a literal. Did you mean \"==\"?\n",
      "<>:1: SyntaxWarning: \"is\" with a literal. Did you mean \"==\"?\n",
      "/var/folders/8l/t3zs7y694s5g088bzybz9czc0000gn/T/ipykernel_40637/812578685.py:1: SyntaxWarning: \"is\" with a literal. Did you mean \"==\"?\n",
      "  True is 1\n"
     ]
    },
    {
     "data": {
      "text/plain": [
       "False"
      ]
     },
     "execution_count": 5,
     "metadata": {},
     "output_type": "execute_result"
    }
   ],
   "source": [
    "True is 1"
   ]
  },
  {
   "cell_type": "code",
   "execution_count": 6,
   "id": "e2208045",
   "metadata": {},
   "outputs": [
    {
     "data": {
      "text/plain": [
       "4472151968"
      ]
     },
     "execution_count": 6,
     "metadata": {},
     "output_type": "execute_result"
    }
   ],
   "source": [
    "id(True)"
   ]
  },
  {
   "cell_type": "code",
   "execution_count": 7,
   "id": "26997f68",
   "metadata": {},
   "outputs": [
    {
     "data": {
      "text/plain": [
       "4465623280"
      ]
     },
     "execution_count": 7,
     "metadata": {},
     "output_type": "execute_result"
    }
   ],
   "source": [
    "id(1)"
   ]
  },
  {
   "cell_type": "code",
   "execution_count": 8,
   "id": "40fe7913",
   "metadata": {},
   "outputs": [
    {
     "data": {
      "text/plain": [
       "True"
      ]
     },
     "execution_count": 8,
     "metadata": {},
     "output_type": "execute_result"
    }
   ],
   "source": [
    "True + True == 2"
   ]
  },
  {
   "cell_type": "code",
   "execution_count": 9,
   "id": "f6a3f29a",
   "metadata": {},
   "outputs": [
    {
     "ename": "SyntaxError",
     "evalue": "expected ':' (1873514626.py, line 1)",
     "output_type": "error",
     "traceback": [
      "\u001b[0;36m  Input \u001b[0;32mIn [9]\u001b[0;36m\u001b[0m\n\u001b[0;31m    if x is True\u001b[0m\n\u001b[0m                ^\u001b[0m\n\u001b[0;31mSyntaxError\u001b[0m\u001b[0;31m:\u001b[0m expected ':'\n"
     ]
    }
   ],
   "source": [
    "if x is True"
   ]
  },
  {
   "cell_type": "code",
   "execution_count": 10,
   "id": "24d7fbc0",
   "metadata": {},
   "outputs": [
    {
     "data": {
      "text/plain": [
       "False"
      ]
     },
     "execution_count": 10,
     "metadata": {},
     "output_type": "execute_result"
    }
   ],
   "source": [
    "2 == True"
   ]
  },
  {
   "cell_type": "code",
   "execution_count": 11,
   "id": "93e93686",
   "metadata": {},
   "outputs": [
    {
     "name": "stdout",
     "output_type": "stream",
     "text": [
      "l\n"
     ]
    }
   ],
   "source": [
    "if 2:\n",
    "    print(\"l\")"
   ]
  },
  {
   "cell_type": "code",
   "execution_count": 12,
   "id": "134842b8",
   "metadata": {},
   "outputs": [
    {
     "ename": "SyntaxError",
     "evalue": "positional argument follows keyword argument (743742788.py, line 4)",
     "output_type": "error",
     "traceback": [
      "\u001b[0;36m  Input \u001b[0;32mIn [12]\u001b[0;36m\u001b[0m\n\u001b[0;31m    funkcja(a=1, b=2, \"master\", \"gcp\", default=4)\u001b[0m\n\u001b[0m                                                ^\u001b[0m\n\u001b[0;31mSyntaxError\u001b[0m\u001b[0;31m:\u001b[0m positional argument follows keyword argument\n"
     ]
    }
   ],
   "source": [
    "def funkcja(*args, **kwargs):\n",
    "    pass\n",
    "\n",
    "funkcja(a=1, b=2, \"master\", \"gcp\", default=4)"
   ]
  },
  {
   "cell_type": "code",
   "execution_count": 14,
   "id": "c2548e8b",
   "metadata": {},
   "outputs": [],
   "source": [
    "print = 1"
   ]
  },
  {
   "cell_type": "code",
   "execution_count": 16,
   "id": "73ac579e",
   "metadata": {},
   "outputs": [],
   "source": [
    "print = __builtin__.print"
   ]
  },
  {
   "cell_type": "code",
   "execution_count": 17,
   "id": "bfb09b4d",
   "metadata": {},
   "outputs": [
    {
     "name": "stdout",
     "output_type": "stream",
     "text": [
      "1\n"
     ]
    }
   ],
   "source": [
    "print(\"1\")"
   ]
  },
  {
   "cell_type": "code",
   "execution_count": 18,
   "id": "2ccc81ff",
   "metadata": {},
   "outputs": [],
   "source": [
    "slownik = {}"
   ]
  },
  {
   "cell_type": "code",
   "execution_count": 19,
   "id": "c85ff2a7",
   "metadata": {},
   "outputs": [
    {
     "ename": "TypeError",
     "evalue": "unhashable type: 'list'",
     "output_type": "error",
     "traceback": [
      "\u001b[0;31m---------------------------------------------------------------------------\u001b[0m",
      "\u001b[0;31mTypeError\u001b[0m                                 Traceback (most recent call last)",
      "Input \u001b[0;32mIn [19]\u001b[0m, in \u001b[0;36m<cell line: 1>\u001b[0;34m()\u001b[0m\n\u001b[0;32m----> 1\u001b[0m slownik[[\u001b[38;5;241m1\u001b[39m, \u001b[38;5;241m2\u001b[39m]] \u001b[38;5;241m=\u001b[39m \u001b[38;5;241m2\u001b[39m\n",
      "\u001b[0;31mTypeError\u001b[0m: unhashable type: 'list'"
     ]
    }
   ],
   "source": [
    "slownik[[1, 2]] = 2"
   ]
  },
  {
   "cell_type": "code",
   "execution_count": 20,
   "id": "987f4fe4",
   "metadata": {},
   "outputs": [
    {
     "ename": "TypeError",
     "evalue": "unhashable type: 'list'",
     "output_type": "error",
     "traceback": [
      "\u001b[0;31m---------------------------------------------------------------------------\u001b[0m",
      "\u001b[0;31mTypeError\u001b[0m                                 Traceback (most recent call last)",
      "Input \u001b[0;32mIn [20]\u001b[0m, in \u001b[0;36m<cell line: 1>\u001b[0;34m()\u001b[0m\n\u001b[0;32m----> 1\u001b[0m {[\u001b[38;5;241m1\u001b[39m, \u001b[38;5;241m2\u001b[39m]}\n",
      "\u001b[0;31mTypeError\u001b[0m: unhashable type: 'list'"
     ]
    }
   ],
   "source": [
    "{[1, 2]}"
   ]
  },
  {
   "cell_type": "code",
   "execution_count": 21,
   "id": "c0089f09",
   "metadata": {},
   "outputs": [
    {
     "data": {
      "text/plain": [
       "{(1, 2)}"
      ]
     },
     "execution_count": 21,
     "metadata": {},
     "output_type": "execute_result"
    }
   ],
   "source": [
    "{(1, 2)}"
   ]
  },
  {
   "cell_type": "code",
   "execution_count": 22,
   "id": "cfe0d94f",
   "metadata": {},
   "outputs": [
    {
     "data": {
      "text/plain": [
       "-3550055125485641917"
      ]
     },
     "execution_count": 22,
     "metadata": {},
     "output_type": "execute_result"
    }
   ],
   "source": [
    "hash((1, 2))"
   ]
  },
  {
   "cell_type": "code",
   "execution_count": 23,
   "id": "235be6f2",
   "metadata": {},
   "outputs": [
    {
     "ename": "TypeError",
     "evalue": "unhashable type: 'list'",
     "output_type": "error",
     "traceback": [
      "\u001b[0;31m---------------------------------------------------------------------------\u001b[0m",
      "\u001b[0;31mTypeError\u001b[0m                                 Traceback (most recent call last)",
      "Input \u001b[0;32mIn [23]\u001b[0m, in \u001b[0;36m<cell line: 1>\u001b[0;34m()\u001b[0m\n\u001b[0;32m----> 1\u001b[0m \u001b[38;5;28;43mhash\u001b[39;49m\u001b[43m(\u001b[49m\u001b[43m[\u001b[49m\u001b[38;5;241;43m1\u001b[39;49m\u001b[43m,\u001b[49m\u001b[43m \u001b[49m\u001b[38;5;241;43m2\u001b[39;49m\u001b[43m]\u001b[49m\u001b[43m)\u001b[49m\n",
      "\u001b[0;31mTypeError\u001b[0m: unhashable type: 'list'"
     ]
    }
   ],
   "source": [
    "hash([1, 2])"
   ]
  },
  {
   "cell_type": "code",
   "execution_count": 24,
   "id": "dc3b2e55",
   "metadata": {},
   "outputs": [],
   "source": [
    "hash?"
   ]
  },
  {
   "cell_type": "code",
   "execution_count": 26,
   "id": "d127eb16",
   "metadata": {},
   "outputs": [
    {
     "ename": "AssertionError",
     "evalue": "",
     "output_type": "error",
     "traceback": [
      "\u001b[0;31m---------------------------------------------------------------------------\u001b[0m",
      "\u001b[0;31mAssertionError\u001b[0m                            Traceback (most recent call last)",
      "Input \u001b[0;32mIn [26]\u001b[0m, in \u001b[0;36m<cell line: 1>\u001b[0;34m()\u001b[0m\n\u001b[0;32m----> 1\u001b[0m \u001b[38;5;28;01massert\u001b[39;00m \u001b[38;5;241m1\u001b[39m \u001b[38;5;241m>\u001b[39m \u001b[38;5;241m2\u001b[39m\n",
      "\u001b[0;31mAssertionError\u001b[0m: "
     ]
    }
   ],
   "source": [
    "assert 1 > 2"
   ]
  },
  {
   "cell_type": "code",
   "execution_count": 29,
   "id": "4c5a8f23",
   "metadata": {},
   "outputs": [
    {
     "data": {
      "text/plain": [
       "{'a': int, 'b': int, 'return': int}"
      ]
     },
     "execution_count": 29,
     "metadata": {},
     "output_type": "execute_result"
    }
   ],
   "source": [
    "def suma(a: int, b:int) -> int:\n",
    "    \"\"\"Suma dwoch liczba\"\"\"\n",
    "    pass\n",
    "\n",
    "suma.__annotations__"
   ]
  },
  {
   "cell_type": "code",
   "execution_count": 30,
   "id": "04988cc9",
   "metadata": {},
   "outputs": [
    {
     "data": {
      "text/plain": [
       "'Suma dwoch liczba'"
      ]
     },
     "execution_count": 30,
     "metadata": {},
     "output_type": "execute_result"
    }
   ],
   "source": [
    "suma.__doc__"
   ]
  },
  {
   "cell_type": "code",
   "execution_count": 31,
   "id": "8393c80a",
   "metadata": {},
   "outputs": [],
   "source": [
    "from typing import List, Optional, Dict\n",
    "\n",
    "\n",
    "def foo(a: List[int]) -> Dict[int, str]:\n",
    "    return {i: str(i) for i in a}\n",
    "    "
   ]
  },
  {
   "cell_type": "code",
   "execution_count": 34,
   "id": "45627c21",
   "metadata": {},
   "outputs": [],
   "source": [
    "if False:\n",
    "    a = 1\n",
    "else:\n",
    "  b = 2"
   ]
  },
  {
   "cell_type": "code",
   "execution_count": 35,
   "id": "8e0470cb",
   "metadata": {},
   "outputs": [],
   "source": [
    "def suma(a, b):\n",
    "    return a + b"
   ]
  },
  {
   "cell_type": "code",
   "execution_count": 36,
   "id": "3218f422",
   "metadata": {},
   "outputs": [
    {
     "name": "stdout",
     "output_type": "stream",
     "text": [
      "  2           0 LOAD_FAST                0 (a)\n",
      "              2 LOAD_FAST                1 (b)\n",
      "              4 BINARY_ADD\n",
      "              6 RETURN_VALUE\n"
     ]
    }
   ],
   "source": [
    "import dis\n",
    "dis.dis(suma)"
   ]
  },
  {
   "cell_type": "code",
   "execution_count": 37,
   "id": "2994e3fc",
   "metadata": {},
   "outputs": [],
   "source": [
    "def funca(a):\n",
    "    lista = []\n",
    "    for i in range(a):\n",
    "        lista.append(i**2)\n",
    "    return lista\n",
    "\n",
    "\n",
    "def funcb(a):\n",
    "    return [i**2 for i in range(a)]"
   ]
  },
  {
   "cell_type": "code",
   "execution_count": 38,
   "id": "c117e8aa",
   "metadata": {},
   "outputs": [
    {
     "name": "stdout",
     "output_type": "stream",
     "text": [
      "  2           0 BUILD_LIST               0\n",
      "              2 STORE_FAST               1 (lista)\n",
      "\n",
      "  3           4 LOAD_GLOBAL              0 (range)\n",
      "              6 LOAD_FAST                0 (a)\n",
      "              8 CALL_FUNCTION            1\n",
      "             10 GET_ITER\n",
      "        >>   12 FOR_ITER                 9 (to 32)\n",
      "             14 STORE_FAST               2 (i)\n",
      "\n",
      "  4          16 LOAD_FAST                1 (lista)\n",
      "             18 LOAD_METHOD              1 (append)\n",
      "             20 LOAD_FAST                2 (i)\n",
      "             22 LOAD_CONST               1 (2)\n",
      "             24 BINARY_POWER\n",
      "             26 CALL_METHOD              1\n",
      "             28 POP_TOP\n",
      "             30 JUMP_ABSOLUTE            6 (to 12)\n",
      "\n",
      "  5     >>   32 LOAD_FAST                1 (lista)\n",
      "             34 RETURN_VALUE\n"
     ]
    }
   ],
   "source": [
    "dis.dis(funca)"
   ]
  },
  {
   "cell_type": "code",
   "execution_count": 39,
   "id": "58cb102c",
   "metadata": {},
   "outputs": [
    {
     "name": "stdout",
     "output_type": "stream",
     "text": [
      "  9           0 LOAD_CONST               1 (<code object <listcomp> at 0x10e7002f0, file \"/var/folders/8l/t3zs7y694s5g088bzybz9czc0000gn/T/ipykernel_40637/1645027030.py\", line 9>)\n",
      "              2 LOAD_CONST               2 ('funcb.<locals>.<listcomp>')\n",
      "              4 MAKE_FUNCTION            0\n",
      "              6 LOAD_GLOBAL              0 (range)\n",
      "              8 LOAD_FAST                0 (a)\n",
      "             10 CALL_FUNCTION            1\n",
      "             12 GET_ITER\n",
      "             14 CALL_FUNCTION            1\n",
      "             16 RETURN_VALUE\n",
      "\n",
      "Disassembly of <code object <listcomp> at 0x10e7002f0, file \"/var/folders/8l/t3zs7y694s5g088bzybz9czc0000gn/T/ipykernel_40637/1645027030.py\", line 9>:\n",
      "  9           0 BUILD_LIST               0\n",
      "              2 LOAD_FAST                0 (.0)\n",
      "        >>    4 FOR_ITER                 6 (to 18)\n",
      "              6 STORE_FAST               1 (i)\n",
      "              8 LOAD_FAST                1 (i)\n",
      "             10 LOAD_CONST               0 (2)\n",
      "             12 BINARY_POWER\n",
      "             14 LIST_APPEND              2\n",
      "             16 JUMP_ABSOLUTE            2 (to 4)\n",
      "        >>   18 RETURN_VALUE\n"
     ]
    }
   ],
   "source": [
    "dis.dis(funcb)"
   ]
  },
  {
   "cell_type": "code",
   "execution_count": 40,
   "id": "78fef7bf",
   "metadata": {},
   "outputs": [
    {
     "name": "stdout",
     "output_type": "stream",
     "text": [
      "Adam\n"
     ]
    }
   ],
   "source": [
    "from dataclasses import dataclass\n",
    "\n",
    "@dataclass\n",
    "class Osoba:\n",
    "    imie: str = \"imie\"\n",
    "    nazwisko: str = \"nazwisko\"\n",
    "\n",
    "os1 = Osoba(imie=\"Adam\", nazwisko=\"Słodowy\")\n",
    "os2 = Osoba(imie=\"Jan\", nazwisko=\"Sobieski\")\n",
    "\n",
    "Osoba.imie = \"xxx\"\n",
    "\n",
    "print(os1.imie)"
   ]
  },
  {
   "cell_type": "code",
   "execution_count": 64,
   "id": "337ab5af",
   "metadata": {},
   "outputs": [
    {
     "name": "stdout",
     "output_type": "stream",
     "text": [
      "1980\n",
      "1979\n"
     ]
    }
   ],
   "source": [
    "from datetime import datetime\n",
    "\n",
    "class Osoba:\n",
    "    name = \"XXX\"\n",
    "    \n",
    "    def __init__(self, name=\"a\", rok_ur=1980):\n",
    "        self.name = name\n",
    "        self.b_year = rok_ur\n",
    "\n",
    "    @property \n",
    "    def wiek(self):\n",
    "        now = datetime.now()\n",
    "        return now.year - self.b_year\n",
    "    \n",
    "    @wiek.setter\n",
    "    def wiek(self, value):\n",
    "        now = datetime.now()\n",
    "        self.b_year = now.year - value\n",
    "        \n",
    "    \n",
    "os = Osoba(name=\"Adam\")\n",
    "print(os.b_year)\n",
    "os.wiek = 43\n",
    "print(os.b_year)"
   ]
  },
  {
   "cell_type": "code",
   "execution_count": 51,
   "id": "6a4b396b",
   "metadata": {},
   "outputs": [],
   "source": [
    "from datetime import datetime\n",
    "now = datetime.now()"
   ]
  },
  {
   "cell_type": "code",
   "execution_count": 58,
   "id": "e90a15c8",
   "metadata": {},
   "outputs": [
    {
     "name": "stdout",
     "output_type": "stream",
     "text": [
      "Help on built-in function isoformat:\n",
      "\n",
      "isoformat(...) method of datetime.datetime instance\n",
      "    [sep] -> string in ISO 8601 format, YYYY-MM-DDT[HH[:MM[:SS[.mmm[uuu]]]]][+HH:MM].\n",
      "    sep is used to separate the year from the time, and defaults to 'T'.\n",
      "    The optional argument timespec specifies the number of additional terms\n",
      "    of the time to include. Valid options are 'auto', 'hours', 'minutes',\n",
      "    'seconds', 'milliseconds' and 'microseconds'.\n",
      "\n"
     ]
    }
   ],
   "source": [
    "help(now.isoformat)"
   ]
  },
  {
   "cell_type": "code",
   "execution_count": 43,
   "id": "d9ab3d14",
   "metadata": {},
   "outputs": [
    {
     "data": {
      "text/plain": [
       "'Adam'"
      ]
     },
     "execution_count": 43,
     "metadata": {},
     "output_type": "execute_result"
    }
   ],
   "source": [
    "os.name"
   ]
  },
  {
   "cell_type": "code",
   "execution_count": 44,
   "id": "01e15df5",
   "metadata": {},
   "outputs": [
    {
     "data": {
      "text/plain": [
       "'XXX'"
      ]
     },
     "execution_count": 44,
     "metadata": {},
     "output_type": "execute_result"
    }
   ],
   "source": [
    "Osoba.name"
   ]
  },
  {
   "cell_type": "code",
   "execution_count": 46,
   "id": "06a52c70",
   "metadata": {},
   "outputs": [
    {
     "data": {
      "text/plain": [
       "'XXX'"
      ]
     },
     "execution_count": 46,
     "metadata": {},
     "output_type": "execute_result"
    }
   ],
   "source": [
    "os.__class__.name"
   ]
  },
  {
   "cell_type": "markdown",
   "id": "e4b2e37e",
   "metadata": {},
   "source": [
    "\n",
    "1. Stwórz klasę reprezentującą okręg (Circle)\n",
    "\n",
    "Okrąg powinien mieć promień (radius), średnicę (diameter) i pole powierzchni (area) oraz przyjemną reprezentację napisową\n",
    "\n",
    "Np:\n",
    "\n",
    "```\n",
    "    >>> c = Circle(5)\n",
    "    >>> c\n",
    "    Circle(5)\n",
    "    >>> c.radius\n",
    "    5\n",
    "    >>> c.diameter\n",
    "    10\n",
    "    >>> c.area\n",
    "    78.53981633974483\n",
    "```\n",
    "\n",
    "2. Promień domyślnie powinien przyjemować wartość 1:\n",
    "\n",
    "```\n",
    "    >>> c = Circle()\n",
    "    >>> c.radius\n",
    "    1\n",
    "    >>> c.diameter\n",
    "    2\n",
    "```\n",
    "\n",
    "3. Kiedy promień się zmienia zmieniają się też średnica i pole powierzchni, np:\n",
    "\n",
    "```\n",
    "    >>> c = Circle(2)\n",
    "    >>> c.radius = 1\n",
    "    >>> c.diameter\n",
    "    2\n",
    "    >>> c.area\n",
    "    3.141592653589793\n",
    "    >>> c\n",
    "    Circle(1)\n",
    "```\n",
    "\n",
    "\n",
    "4. Można ustawić średnicę i wpływa to na promień i pole\n",
    "```\n",
    "    >>> c = Circle(1)\n",
    "    >>> c.diameter = 4\n",
    "    >>> c.radius\n",
    "    2.0\n",
    "```    \n",
    "5. Można ustawić pole powierzhni.\n",
    "\n",
    "```\n",
    "    >>> c = Circle(1)\n",
    "    >>> c.area = math.pi * 5 ** 2\n",
    "    >>> c.radius\n",
    "    5.0\n",
    "```\n",
    "6. Promień nie może być liczbą mniejszą od zera:\n",
    "```\n",
    "    >>> c = Circle(5)\n",
    "    >>> c.radius = 3\n",
    "    >>> c.radius = -2\n",
    "    Traceback (most recent call last):\n",
    "      File \"<stdin>\", line 1, in <module>\n",
    "      File \"circle.py\", line 27, in radius\n",
    "        raise ValueError(\"Radius cannot be negative\")\n",
    "    ValueError: R\n",
    "```"
   ]
  },
  {
   "cell_type": "code",
   "execution_count": 49,
   "id": "dc53624e",
   "metadata": {},
   "outputs": [
    {
     "data": {
      "text/plain": [
       "2"
      ]
     },
     "execution_count": 49,
     "metadata": {},
     "output_type": "execute_result"
    }
   ],
   "source": [
    "1+1 "
   ]
  },
  {
   "cell_type": "code",
   "execution_count": 50,
   "id": "6df95efd",
   "metadata": {},
   "outputs": [
    {
     "ename": "TypeError",
     "evalue": "unsupported operand type(s) for +: 'Circle' and 'Circle'",
     "output_type": "error",
     "traceback": [
      "\u001b[0;31m---------------------------------------------------------------------------\u001b[0m",
      "\u001b[0;31mTypeError\u001b[0m                                 Traceback (most recent call last)",
      "Input \u001b[0;32mIn [50]\u001b[0m, in \u001b[0;36m<cell line: 7>\u001b[0;34m()\u001b[0m\n\u001b[1;32m      4\u001b[0m o1 \u001b[38;5;241m=\u001b[39m Circle() \n\u001b[1;32m      5\u001b[0m o2 \u001b[38;5;241m=\u001b[39m Circle()\n\u001b[0;32m----> 7\u001b[0m \u001b[43mo1\u001b[49m\u001b[43m \u001b[49m\u001b[38;5;241;43m+\u001b[39;49m\u001b[43m \u001b[49m\u001b[43mo2\u001b[49m\n",
      "\u001b[0;31mTypeError\u001b[0m: unsupported operand type(s) for +: 'Circle' and 'Circle'"
     ]
    }
   ],
   "source": [
    "class Circle:\n",
    "    pass\n",
    "\n",
    "o1 = Circle() \n",
    "o2 = Circle(r = 10)\n",
    "\n",
    "o2.diameter\n",
    "o2.diameter = 20\n",
    "\n",
    "o2.r = -10 # to ma byc wyjatek"
   ]
  },
  {
   "cell_type": "code",
   "execution_count": null,
   "id": "88f82a11",
   "metadata": {},
   "outputs": [],
   "source": []
  }
 ],
 "metadata": {
  "kernelspec": {
   "display_name": "Python 3 (ipykernel)",
   "language": "python",
   "name": "python3"
  },
  "language_info": {
   "codemirror_mode": {
    "name": "ipython",
    "version": 3
   },
   "file_extension": ".py",
   "mimetype": "text/x-python",
   "name": "python",
   "nbconvert_exporter": "python",
   "pygments_lexer": "ipython3",
   "version": "3.10.4"
  },
  "toc": {
   "base_numbering": 1,
   "nav_menu": {},
   "number_sections": true,
   "sideBar": true,
   "skip_h1_title": false,
   "title_cell": "Table of Contents",
   "title_sidebar": "Contents",
   "toc_cell": false,
   "toc_position": {},
   "toc_section_display": true,
   "toc_window_display": false
  }
 },
 "nbformat": 4,
 "nbformat_minor": 5
}
