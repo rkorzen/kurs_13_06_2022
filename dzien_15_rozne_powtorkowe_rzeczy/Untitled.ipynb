{
 "cells": [
  {
   "cell_type": "code",
   "execution_count": 2,
   "id": "0fb4ba51",
   "metadata": {},
   "outputs": [
    {
     "data": {
      "text/plain": [
       "False"
      ]
     },
     "execution_count": 2,
     "metadata": {},
     "output_type": "execute_result"
    }
   ],
   "source": [
    "(0.1 + 0.1 + 0.1) == 0.3"
   ]
  },
  {
   "cell_type": "code",
   "execution_count": 3,
   "id": "a998620c",
   "metadata": {},
   "outputs": [
    {
     "data": {
      "text/plain": [
       "0.30000000000000004"
      ]
     },
     "execution_count": 3,
     "metadata": {},
     "output_type": "execute_result"
    }
   ],
   "source": [
    "0.1 + 0.1 + 0.1"
   ]
  },
  {
   "cell_type": "code",
   "execution_count": 4,
   "id": "7f00d6eb",
   "metadata": {},
   "outputs": [
    {
     "data": {
      "text/plain": [
       "True"
      ]
     },
     "execution_count": 4,
     "metadata": {},
     "output_type": "execute_result"
    }
   ],
   "source": [
    "True == 1"
   ]
  },
  {
   "cell_type": "code",
   "execution_count": 5,
   "id": "4769fffb",
   "metadata": {},
   "outputs": [
    {
     "name": "stderr",
     "output_type": "stream",
     "text": [
      "<>:1: SyntaxWarning: \"is\" with a literal. Did you mean \"==\"?\n",
      "<>:1: SyntaxWarning: \"is\" with a literal. Did you mean \"==\"?\n",
      "/var/folders/8l/t3zs7y694s5g088bzybz9czc0000gn/T/ipykernel_40637/812578685.py:1: SyntaxWarning: \"is\" with a literal. Did you mean \"==\"?\n",
      "  True is 1\n"
     ]
    },
    {
     "data": {
      "text/plain": [
       "False"
      ]
     },
     "execution_count": 5,
     "metadata": {},
     "output_type": "execute_result"
    }
   ],
   "source": [
    "True is 1"
   ]
  },
  {
   "cell_type": "code",
   "execution_count": 6,
   "id": "e2208045",
   "metadata": {},
   "outputs": [
    {
     "data": {
      "text/plain": [
       "4472151968"
      ]
     },
     "execution_count": 6,
     "metadata": {},
     "output_type": "execute_result"
    }
   ],
   "source": [
    "id(True)"
   ]
  },
  {
   "cell_type": "code",
   "execution_count": 7,
   "id": "26997f68",
   "metadata": {},
   "outputs": [
    {
     "data": {
      "text/plain": [
       "4465623280"
      ]
     },
     "execution_count": 7,
     "metadata": {},
     "output_type": "execute_result"
    }
   ],
   "source": [
    "id(1)"
   ]
  },
  {
   "cell_type": "code",
   "execution_count": 8,
   "id": "40fe7913",
   "metadata": {},
   "outputs": [
    {
     "data": {
      "text/plain": [
       "True"
      ]
     },
     "execution_count": 8,
     "metadata": {},
     "output_type": "execute_result"
    }
   ],
   "source": [
    "True + True == 2"
   ]
  },
  {
   "cell_type": "code",
   "execution_count": 9,
   "id": "f6a3f29a",
   "metadata": {},
   "outputs": [
    {
     "ename": "SyntaxError",
     "evalue": "expected ':' (1873514626.py, line 1)",
     "output_type": "error",
     "traceback": [
      "\u001b[0;36m  Input \u001b[0;32mIn [9]\u001b[0;36m\u001b[0m\n\u001b[0;31m    if x is True\u001b[0m\n\u001b[0m                ^\u001b[0m\n\u001b[0;31mSyntaxError\u001b[0m\u001b[0;31m:\u001b[0m expected ':'\n"
     ]
    }
   ],
   "source": [
    "if x is True"
   ]
  },
  {
   "cell_type": "code",
   "execution_count": 10,
   "id": "24d7fbc0",
   "metadata": {},
   "outputs": [
    {
     "data": {
      "text/plain": [
       "False"
      ]
     },
     "execution_count": 10,
     "metadata": {},
     "output_type": "execute_result"
    }
   ],
   "source": [
    "2 == True"
   ]
  },
  {
   "cell_type": "code",
   "execution_count": 11,
   "id": "93e93686",
   "metadata": {},
   "outputs": [
    {
     "name": "stdout",
     "output_type": "stream",
     "text": [
      "l\n"
     ]
    }
   ],
   "source": [
    "if 2:\n",
    "    print(\"l\")"
   ]
  },
  {
   "cell_type": "code",
   "execution_count": 12,
   "id": "134842b8",
   "metadata": {},
   "outputs": [
    {
     "ename": "SyntaxError",
     "evalue": "positional argument follows keyword argument (743742788.py, line 4)",
     "output_type": "error",
     "traceback": [
      "\u001b[0;36m  Input \u001b[0;32mIn [12]\u001b[0;36m\u001b[0m\n\u001b[0;31m    funkcja(a=1, b=2, \"master\", \"gcp\", default=4)\u001b[0m\n\u001b[0m                                                ^\u001b[0m\n\u001b[0;31mSyntaxError\u001b[0m\u001b[0;31m:\u001b[0m positional argument follows keyword argument\n"
     ]
    }
   ],
   "source": [
    "def funkcja(*args, **kwargs):\n",
    "    pass\n",
    "\n",
    "funkcja(a=1, b=2, \"master\", \"gcp\", default=4)"
   ]
  },
  {
   "cell_type": "code",
   "execution_count": 14,
   "id": "c2548e8b",
   "metadata": {},
   "outputs": [],
   "source": [
    "print = 1"
   ]
  },
  {
   "cell_type": "code",
   "execution_count": 16,
   "id": "73ac579e",
   "metadata": {},
   "outputs": [],
   "source": [
    "print = __builtin__.print"
   ]
  },
  {
   "cell_type": "code",
   "execution_count": 17,
   "id": "bfb09b4d",
   "metadata": {},
   "outputs": [
    {
     "name": "stdout",
     "output_type": "stream",
     "text": [
      "1\n"
     ]
    }
   ],
   "source": [
    "print(\"1\")"
   ]
  },
  {
   "cell_type": "code",
   "execution_count": 18,
   "id": "2ccc81ff",
   "metadata": {},
   "outputs": [],
   "source": [
    "slownik = {}"
   ]
  },
  {
   "cell_type": "code",
   "execution_count": 19,
   "id": "c85ff2a7",
   "metadata": {},
   "outputs": [
    {
     "ename": "TypeError",
     "evalue": "unhashable type: 'list'",
     "output_type": "error",
     "traceback": [
      "\u001b[0;31m---------------------------------------------------------------------------\u001b[0m",
      "\u001b[0;31mTypeError\u001b[0m                                 Traceback (most recent call last)",
      "Input \u001b[0;32mIn [19]\u001b[0m, in \u001b[0;36m<cell line: 1>\u001b[0;34m()\u001b[0m\n\u001b[0;32m----> 1\u001b[0m slownik[[\u001b[38;5;241m1\u001b[39m, \u001b[38;5;241m2\u001b[39m]] \u001b[38;5;241m=\u001b[39m \u001b[38;5;241m2\u001b[39m\n",
      "\u001b[0;31mTypeError\u001b[0m: unhashable type: 'list'"
     ]
    }
   ],
   "source": [
    "slownik[[1, 2]] = 2"
   ]
  },
  {
   "cell_type": "code",
   "execution_count": 20,
   "id": "987f4fe4",
   "metadata": {},
   "outputs": [
    {
     "ename": "TypeError",
     "evalue": "unhashable type: 'list'",
     "output_type": "error",
     "traceback": [
      "\u001b[0;31m---------------------------------------------------------------------------\u001b[0m",
      "\u001b[0;31mTypeError\u001b[0m                                 Traceback (most recent call last)",
      "Input \u001b[0;32mIn [20]\u001b[0m, in \u001b[0;36m<cell line: 1>\u001b[0;34m()\u001b[0m\n\u001b[0;32m----> 1\u001b[0m {[\u001b[38;5;241m1\u001b[39m, \u001b[38;5;241m2\u001b[39m]}\n",
      "\u001b[0;31mTypeError\u001b[0m: unhashable type: 'list'"
     ]
    }
   ],
   "source": [
    "{[1, 2]}"
   ]
  },
  {
   "cell_type": "code",
   "execution_count": 21,
   "id": "c0089f09",
   "metadata": {},
   "outputs": [
    {
     "data": {
      "text/plain": [
       "{(1, 2)}"
      ]
     },
     "execution_count": 21,
     "metadata": {},
     "output_type": "execute_result"
    }
   ],
   "source": [
    "{(1, 2)}"
   ]
  },
  {
   "cell_type": "code",
   "execution_count": 22,
   "id": "cfe0d94f",
   "metadata": {},
   "outputs": [
    {
     "data": {
      "text/plain": [
       "-3550055125485641917"
      ]
     },
     "execution_count": 22,
     "metadata": {},
     "output_type": "execute_result"
    }
   ],
   "source": [
    "hash((1, 2))"
   ]
  },
  {
   "cell_type": "code",
   "execution_count": 23,
   "id": "235be6f2",
   "metadata": {},
   "outputs": [
    {
     "ename": "TypeError",
     "evalue": "unhashable type: 'list'",
     "output_type": "error",
     "traceback": [
      "\u001b[0;31m---------------------------------------------------------------------------\u001b[0m",
      "\u001b[0;31mTypeError\u001b[0m                                 Traceback (most recent call last)",
      "Input \u001b[0;32mIn [23]\u001b[0m, in \u001b[0;36m<cell line: 1>\u001b[0;34m()\u001b[0m\n\u001b[0;32m----> 1\u001b[0m \u001b[38;5;28;43mhash\u001b[39;49m\u001b[43m(\u001b[49m\u001b[43m[\u001b[49m\u001b[38;5;241;43m1\u001b[39;49m\u001b[43m,\u001b[49m\u001b[43m \u001b[49m\u001b[38;5;241;43m2\u001b[39;49m\u001b[43m]\u001b[49m\u001b[43m)\u001b[49m\n",
      "\u001b[0;31mTypeError\u001b[0m: unhashable type: 'list'"
     ]
    }
   ],
   "source": [
    "hash([1, 2])"
   ]
  },
  {
   "cell_type": "code",
   "execution_count": 24,
   "id": "dc3b2e55",
   "metadata": {},
   "outputs": [],
   "source": [
    "hash?"
   ]
  },
  {
   "cell_type": "code",
   "execution_count": 26,
   "id": "d127eb16",
   "metadata": {},
   "outputs": [
    {
     "ename": "AssertionError",
     "evalue": "",
     "output_type": "error",
     "traceback": [
      "\u001b[0;31m---------------------------------------------------------------------------\u001b[0m",
      "\u001b[0;31mAssertionError\u001b[0m                            Traceback (most recent call last)",
      "Input \u001b[0;32mIn [26]\u001b[0m, in \u001b[0;36m<cell line: 1>\u001b[0;34m()\u001b[0m\n\u001b[0;32m----> 1\u001b[0m \u001b[38;5;28;01massert\u001b[39;00m \u001b[38;5;241m1\u001b[39m \u001b[38;5;241m>\u001b[39m \u001b[38;5;241m2\u001b[39m\n",
      "\u001b[0;31mAssertionError\u001b[0m: "
     ]
    }
   ],
   "source": [
    "assert 1 > 2"
   ]
  },
  {
   "cell_type": "code",
   "execution_count": 29,
   "id": "4c5a8f23",
   "metadata": {},
   "outputs": [
    {
     "data": {
      "text/plain": [
       "{'a': int, 'b': int, 'return': int}"
      ]
     },
     "execution_count": 29,
     "metadata": {},
     "output_type": "execute_result"
    }
   ],
   "source": [
    "def suma(a: int, b:int) -> int:\n",
    "    \"\"\"Suma dwoch liczba\"\"\"\n",
    "    pass\n",
    "\n",
    "suma.__annotations__"
   ]
  },
  {
   "cell_type": "code",
   "execution_count": 30,
   "id": "04988cc9",
   "metadata": {},
   "outputs": [
    {
     "data": {
      "text/plain": [
       "'Suma dwoch liczba'"
      ]
     },
     "execution_count": 30,
     "metadata": {},
     "output_type": "execute_result"
    }
   ],
   "source": [
    "suma.__doc__"
   ]
  },
  {
   "cell_type": "code",
   "execution_count": 31,
   "id": "8393c80a",
   "metadata": {},
   "outputs": [],
   "source": [
    "from typing import List, Optional, Dict\n",
    "\n",
    "\n",
    "def foo(a: List[int]) -> Dict[int, str]:\n",
    "    return {i: str(i) for i in a}\n",
    "    "
   ]
  },
  {
   "cell_type": "code",
   "execution_count": 34,
   "id": "45627c21",
   "metadata": {},
   "outputs": [],
   "source": [
    "if False:\n",
    "    a = 1\n",
    "else:\n",
    "  b = 2"
   ]
  },
  {
   "cell_type": "code",
   "execution_count": 35,
   "id": "8e0470cb",
   "metadata": {},
   "outputs": [],
   "source": [
    "def suma(a, b):\n",
    "    return a + b"
   ]
  },
  {
   "cell_type": "code",
   "execution_count": 36,
   "id": "3218f422",
   "metadata": {},
   "outputs": [
    {
     "name": "stdout",
     "output_type": "stream",
     "text": [
      "  2           0 LOAD_FAST                0 (a)\n",
      "              2 LOAD_FAST                1 (b)\n",
      "              4 BINARY_ADD\n",
      "              6 RETURN_VALUE\n"
     ]
    }
   ],
   "source": [
    "import dis\n",
    "dis.dis(suma)"
   ]
  },
  {
   "cell_type": "code",
   "execution_count": 37,
   "id": "2994e3fc",
   "metadata": {},
   "outputs": [],
   "source": [
    "def funca(a):\n",
    "    lista = []\n",
    "    for i in range(a):\n",
    "        lista.append(i**2)\n",
    "    return lista\n",
    "\n",
    "\n",
    "def funcb(a):\n",
    "    return [i**2 for i in range(a)]"
   ]
  },
  {
   "cell_type": "code",
   "execution_count": 38,
   "id": "c117e8aa",
   "metadata": {},
   "outputs": [
    {
     "name": "stdout",
     "output_type": "stream",
     "text": [
      "  2           0 BUILD_LIST               0\n",
      "              2 STORE_FAST               1 (lista)\n",
      "\n",
      "  3           4 LOAD_GLOBAL              0 (range)\n",
      "              6 LOAD_FAST                0 (a)\n",
      "              8 CALL_FUNCTION            1\n",
      "             10 GET_ITER\n",
      "        >>   12 FOR_ITER                 9 (to 32)\n",
      "             14 STORE_FAST               2 (i)\n",
      "\n",
      "  4          16 LOAD_FAST                1 (lista)\n",
      "             18 LOAD_METHOD              1 (append)\n",
      "             20 LOAD_FAST                2 (i)\n",
      "             22 LOAD_CONST               1 (2)\n",
      "             24 BINARY_POWER\n",
      "             26 CALL_METHOD              1\n",
      "             28 POP_TOP\n",
      "             30 JUMP_ABSOLUTE            6 (to 12)\n",
      "\n",
      "  5     >>   32 LOAD_FAST                1 (lista)\n",
      "             34 RETURN_VALUE\n"
     ]
    }
   ],
   "source": [
    "dis.dis(funca)"
   ]
  },
  {
   "cell_type": "code",
   "execution_count": 39,
   "id": "58cb102c",
   "metadata": {},
   "outputs": [
    {
     "name": "stdout",
     "output_type": "stream",
     "text": [
      "  9           0 LOAD_CONST               1 (<code object <listcomp> at 0x10e7002f0, file \"/var/folders/8l/t3zs7y694s5g088bzybz9czc0000gn/T/ipykernel_40637/1645027030.py\", line 9>)\n",
      "              2 LOAD_CONST               2 ('funcb.<locals>.<listcomp>')\n",
      "              4 MAKE_FUNCTION            0\n",
      "              6 LOAD_GLOBAL              0 (range)\n",
      "              8 LOAD_FAST                0 (a)\n",
      "             10 CALL_FUNCTION            1\n",
      "             12 GET_ITER\n",
      "             14 CALL_FUNCTION            1\n",
      "             16 RETURN_VALUE\n",
      "\n",
      "Disassembly of <code object <listcomp> at 0x10e7002f0, file \"/var/folders/8l/t3zs7y694s5g088bzybz9czc0000gn/T/ipykernel_40637/1645027030.py\", line 9>:\n",
      "  9           0 BUILD_LIST               0\n",
      "              2 LOAD_FAST                0 (.0)\n",
      "        >>    4 FOR_ITER                 6 (to 18)\n",
      "              6 STORE_FAST               1 (i)\n",
      "              8 LOAD_FAST                1 (i)\n",
      "             10 LOAD_CONST               0 (2)\n",
      "             12 BINARY_POWER\n",
      "             14 LIST_APPEND              2\n",
      "             16 JUMP_ABSOLUTE            2 (to 4)\n",
      "        >>   18 RETURN_VALUE\n"
     ]
    }
   ],
   "source": [
    "dis.dis(funcb)"
   ]
  },
  {
   "cell_type": "code",
   "execution_count": 40,
   "id": "78fef7bf",
   "metadata": {},
   "outputs": [
    {
     "name": "stdout",
     "output_type": "stream",
     "text": [
      "Adam\n"
     ]
    }
   ],
   "source": [
    "from dataclasses import dataclass\n",
    "\n",
    "@dataclass\n",
    "class Osoba:\n",
    "    imie: str = \"imie\"\n",
    "    nazwisko: str = \"nazwisko\"\n",
    "\n",
    "os1 = Osoba(imie=\"Adam\", nazwisko=\"Słodowy\")\n",
    "os2 = Osoba(imie=\"Jan\", nazwisko=\"Sobieski\")\n",
    "\n",
    "Osoba.imie = \"xxx\"\n",
    "\n",
    "print(os1.imie)"
   ]
  },
  {
   "cell_type": "code",
   "execution_count": 64,
   "id": "337ab5af",
   "metadata": {},
   "outputs": [
    {
     "name": "stdout",
     "output_type": "stream",
     "text": [
      "1980\n",
      "1979\n"
     ]
    }
   ],
   "source": [
    "from datetime import datetime\n",
    "\n",
    "class Osoba:\n",
    "    name = \"XXX\"\n",
    "    \n",
    "    def __init__(self, name=\"a\", rok_ur=1980):\n",
    "        self.name = name\n",
    "        self.b_year = rok_ur\n",
    "\n",
    "    @property \n",
    "    def wiek(self):\n",
    "        now = datetime.now()\n",
    "        return now.year - self.b_year\n",
    "    \n",
    "    @wiek.setter\n",
    "    def wiek(self, value):\n",
    "        now = datetime.now()\n",
    "        self.b_year = now.year - value\n",
    "        \n",
    "    \n",
    "os = Osoba(name=\"Adam\")\n",
    "print(os.b_year)\n",
    "os.wiek = 43\n",
    "print(os.b_year)"
   ]
  },
  {
   "cell_type": "code",
   "execution_count": 51,
   "id": "6a4b396b",
   "metadata": {},
   "outputs": [],
   "source": [
    "from datetime import datetime\n",
    "now = datetime.now()"
   ]
  },
  {
   "cell_type": "code",
   "execution_count": 58,
   "id": "e90a15c8",
   "metadata": {},
   "outputs": [
    {
     "name": "stdout",
     "output_type": "stream",
     "text": [
      "Help on built-in function isoformat:\n",
      "\n",
      "isoformat(...) method of datetime.datetime instance\n",
      "    [sep] -> string in ISO 8601 format, YYYY-MM-DDT[HH[:MM[:SS[.mmm[uuu]]]]][+HH:MM].\n",
      "    sep is used to separate the year from the time, and defaults to 'T'.\n",
      "    The optional argument timespec specifies the number of additional terms\n",
      "    of the time to include. Valid options are 'auto', 'hours', 'minutes',\n",
      "    'seconds', 'milliseconds' and 'microseconds'.\n",
      "\n"
     ]
    }
   ],
   "source": [
    "help(now.isoformat)"
   ]
  },
  {
   "cell_type": "code",
   "execution_count": 43,
   "id": "d9ab3d14",
   "metadata": {},
   "outputs": [
    {
     "data": {
      "text/plain": [
       "'Adam'"
      ]
     },
     "execution_count": 43,
     "metadata": {},
     "output_type": "execute_result"
    }
   ],
   "source": [
    "os.name"
   ]
  },
  {
   "cell_type": "code",
   "execution_count": 44,
   "id": "01e15df5",
   "metadata": {},
   "outputs": [
    {
     "data": {
      "text/plain": [
       "'XXX'"
      ]
     },
     "execution_count": 44,
     "metadata": {},
     "output_type": "execute_result"
    }
   ],
   "source": [
    "Osoba.name"
   ]
  },
  {
   "cell_type": "code",
   "execution_count": 46,
   "id": "06a52c70",
   "metadata": {},
   "outputs": [
    {
     "data": {
      "text/plain": [
       "'XXX'"
      ]
     },
     "execution_count": 46,
     "metadata": {},
     "output_type": "execute_result"
    }
   ],
   "source": [
    "os.__class__.name"
   ]
  },
  {
   "cell_type": "markdown",
   "id": "713b15c5",
   "metadata": {},
   "source": [
    "# H1\n",
    "\n",
    "## H2\n",
    "\n",
    "### H3\n",
    "\n",
    "Lista\n",
    "\n",
    "* el 1\n",
    "* el 2\n",
    "\n",
    "\n",
    "| a | b |\n",
    "|---|---|\n",
    "| 1 | 2 |"
   ]
  },
  {
   "cell_type": "markdown",
   "id": "e4b2e37e",
   "metadata": {},
   "source": [
    "1. Stwórz klasę reprezentującą okręg (Circle)\n",
    "\n",
    "Okrąg powinien mieć promień (radius), średnicę (diameter) i pole powierzchni (area) oraz przyjemną reprezentację napisową\n",
    "\n",
    "Np:\n",
    "\n",
    "```\n",
    "    >>> c = Circle(5)\n",
    "    >>> c\n",
    "    Circle(5)\n",
    "    >>> c.radius\n",
    "    5\n",
    "    >>> c.diameter\n",
    "    10\n",
    "    >>> c.area\n",
    "    78.53981633974483\n",
    "```\n",
    "\n",
    "2. Promień domyślnie powinien przyjemować wartość 1:\n",
    "\n",
    "```\n",
    "    >>> c = Circle()\n",
    "    >>> c.radius\n",
    "    1\n",
    "    >>> c.diameter\n",
    "    2\n",
    "```\n",
    "\n",
    "3. Kiedy promień się zmienia zmieniają się też średnica i pole powierzchni, np:\n",
    "\n",
    "```\n",
    "    >>> c = Circle(2)\n",
    "    >>> c.radius = 1\n",
    "    >>> c.diameter\n",
    "    2\n",
    "    >>> c.area\n",
    "    3.141592653589793\n",
    "    >>> c\n",
    "    Circle(1)\n",
    "```\n",
    "\n",
    "\n",
    "4. Można ustawić średnicę i wpływa to na promień i pole\n",
    "```\n",
    "    >>> c = Circle(1)\n",
    "    >>> c.diameter = 4\n",
    "    >>> c.radius\n",
    "    2.0\n",
    "```    \n",
    "5. Można ustawić pole powierzhni.\n",
    "\n",
    "```\n",
    "    >>> c = Circle(1)\n",
    "    >>> c.area = math.pi * 5 ** 2\n",
    "    >>> c.radius\n",
    "    5.0\n",
    "```\n",
    "6. Promień nie może być liczbą mniejszą od zera:\n",
    "```\n",
    "    >>> c = Circle(5)\n",
    "    >>> c.radius = 3\n",
    "    >>> c.radius = -2\n",
    "    Traceback (most recent call last):\n",
    "      File \"<stdin>\", line 1, in <module>\n",
    "      File \"circle.py\", line 27, in radius\n",
    "        raise ValueError(\"Radius cannot be negative\")\n",
    "    ValueError: R\n",
    "```"
   ]
  },
  {
   "cell_type": "code",
   "execution_count": 49,
   "id": "dc53624e",
   "metadata": {},
   "outputs": [
    {
     "data": {
      "text/plain": [
       "2"
      ]
     },
     "execution_count": 49,
     "metadata": {},
     "output_type": "execute_result"
    }
   ],
   "source": [
    "1+1 "
   ]
  },
  {
   "cell_type": "code",
   "execution_count": 50,
   "id": "6df95efd",
   "metadata": {},
   "outputs": [
    {
     "ename": "TypeError",
     "evalue": "unsupported operand type(s) for +: 'Circle' and 'Circle'",
     "output_type": "error",
     "traceback": [
      "\u001b[0;31m---------------------------------------------------------------------------\u001b[0m",
      "\u001b[0;31mTypeError\u001b[0m                                 Traceback (most recent call last)",
      "Input \u001b[0;32mIn [50]\u001b[0m, in \u001b[0;36m<cell line: 7>\u001b[0;34m()\u001b[0m\n\u001b[1;32m      4\u001b[0m o1 \u001b[38;5;241m=\u001b[39m Circle() \n\u001b[1;32m      5\u001b[0m o2 \u001b[38;5;241m=\u001b[39m Circle()\n\u001b[0;32m----> 7\u001b[0m \u001b[43mo1\u001b[49m\u001b[43m \u001b[49m\u001b[38;5;241;43m+\u001b[39;49m\u001b[43m \u001b[49m\u001b[43mo2\u001b[49m\n",
      "\u001b[0;31mTypeError\u001b[0m: unsupported operand type(s) for +: 'Circle' and 'Circle'"
     ]
    }
   ],
   "source": [
    "class Circle:\n",
    "    pass\n",
    "\n",
    "o1 = Circle() \n",
    "o2 = Circle(r = 10)\n",
    "\n",
    "o2.diameter\n",
    "o2.diameter = 20\n",
    "\n",
    "o2.r = -10 # to ma byc wyjatek"
   ]
  },
  {
   "cell_type": "code",
   "execution_count": 69,
   "id": "842f9de4",
   "metadata": {},
   "outputs": [
    {
     "name": "stdout",
     "output_type": "stream",
     "text": [
      "Collecting gtts\n",
      "  Using cached gTTS-2.2.4-py3-none-any.whl (26 kB)\n",
      "Collecting requests\n",
      "  Using cached requests-2.28.0-py3-none-any.whl (62 kB)\n",
      "Collecting click\n",
      "  Using cached click-8.1.3-py3-none-any.whl (96 kB)\n",
      "Collecting six\n",
      "  Using cached six-1.16.0-py2.py3-none-any.whl (11 kB)\n",
      "Collecting certifi>=2017.4.17\n",
      "  Using cached certifi-2022.5.18.1-py3-none-any.whl (155 kB)\n",
      "Collecting idna<4,>=2.5\n",
      "  Using cached idna-3.3-py3-none-any.whl (61 kB)\n",
      "Collecting urllib3<1.27,>=1.21.1\n",
      "  Using cached urllib3-1.26.9-py2.py3-none-any.whl (138 kB)\n",
      "Collecting charset-normalizer~=2.0.0\n",
      "  Using cached charset_normalizer-2.0.12-py3-none-any.whl (39 kB)\n",
      "Installing collected packages: urllib3, idna, charset-normalizer, certifi, six, requests, click, gtts\n",
      "Successfully installed certifi-2022.5.18.1 charset-normalizer-2.0.12 click-8.1.3 gtts-2.2.4 idna-3.3 requests-2.28.0 six-1.16.0 urllib3-1.26.9\n",
      "\u001b[33mWARNING: You are using pip version 21.1.2; however, version 22.1.2 is available.\n",
      "You should consider upgrading via the '/Users/rkorzen/PycharmProjects/kurs_13_06_2022/venv/bin/python -m pip install --upgrade pip' command.\u001b[0m\n"
     ]
    }
   ],
   "source": [
    "!python -m pip install gtts"
   ]
  },
  {
   "cell_type": "code",
   "execution_count": 71,
   "id": "9d68d5f4",
   "metadata": {},
   "outputs": [],
   "source": [
    "from gtts import gTTS"
   ]
  },
  {
   "cell_type": "code",
   "execution_count": 72,
   "id": "73de82fe",
   "metadata": {},
   "outputs": [],
   "source": [
    "tts = gTTS('hello')\n",
    "tts.save('hello.mp3')"
   ]
  },
  {
   "cell_type": "code",
   "execution_count": 75,
   "id": "763c7f02",
   "metadata": {},
   "outputs": [
    {
     "name": "stdout",
     "output_type": "stream",
     "text": [
      "Untitled.ipynb    assert_example.py hello.mp3         \u001b[34mvenv\u001b[m\u001b[m\r\n",
      "\u001b[34m__pycache__\u001b[m\u001b[m       circle.py         help_examples.py\r\n"
     ]
    }
   ],
   "source": [
    "!ls"
   ]
  },
  {
   "cell_type": "code",
   "execution_count": 77,
   "id": "ffea8e1f",
   "metadata": {},
   "outputs": [
    {
     "name": "stdout",
     "output_type": "stream",
     "text": [
      "Requirement already satisfied: playsound in ./venv/lib/python3.9/site-packages (1.3.0)\n",
      "\u001b[33mWARNING: You are using pip version 21.1.2; however, version 22.1.2 is available.\n",
      "You should consider upgrading via the '/Users/rkorzen/PycharmProjects/kurs_13_06_2022/venv/bin/python -m pip install --upgrade pip' command.\u001b[0m\n"
     ]
    }
   ],
   "source": [
    "!python -m pip install playsound"
   ]
  },
  {
   "cell_type": "code",
   "execution_count": 78,
   "id": "a1a89d56",
   "metadata": {},
   "outputs": [
    {
     "name": "stderr",
     "output_type": "stream",
     "text": [
      "playsound is relying on a python 2 subprocess. Please use `pip3 install PyObjC` if you want playsound to run more efficiently.\n"
     ]
    }
   ],
   "source": [
    "from playsound import playsound"
   ]
  },
  {
   "cell_type": "code",
   "execution_count": 82,
   "id": "afb50c6e",
   "metadata": {},
   "outputs": [
    {
     "ename": "FileNotFoundError",
     "evalue": "[Errno 2] No such file or directory: '/System/Library/Frameworks/Python.framework/Versions/2.7/bin/python'",
     "output_type": "error",
     "traceback": [
      "\u001b[0;31m---------------------------------------------------------------------------\u001b[0m",
      "\u001b[0;31mFileNotFoundError\u001b[0m                         Traceback (most recent call last)",
      "Input \u001b[0;32mIn [82]\u001b[0m, in \u001b[0;36m<cell line: 1>\u001b[0;34m()\u001b[0m\n\u001b[0;32m----> 1\u001b[0m \u001b[43mplaysound\u001b[49m\u001b[43m(\u001b[49m\u001b[38;5;124;43m\"\u001b[39;49m\u001b[38;5;124;43mhello.mp3\u001b[39;49m\u001b[38;5;124;43m\"\u001b[39;49m\u001b[43m)\u001b[49m\n",
      "File \u001b[0;32m/usr/local/lib/python3.10/site-packages/playsound.py:244\u001b[0m, in \u001b[0;36m<lambda>\u001b[0;34m(sound, block)\u001b[0m\n\u001b[1;32m    242\u001b[0m         \u001b[38;5;28;01mexcept\u001b[39;00m \u001b[38;5;167;01mImportError\u001b[39;00m:\n\u001b[1;32m    243\u001b[0m             logger\u001b[38;5;241m.\u001b[39mwarning(\u001b[38;5;124m\"\u001b[39m\u001b[38;5;124mplaysound is relying on a python 2 subprocess. Please use `pip3 install PyObjC` if you want playsound to run more efficiently.\u001b[39m\u001b[38;5;124m\"\u001b[39m)\n\u001b[0;32m--> 244\u001b[0m             playsound \u001b[38;5;241m=\u001b[39m \u001b[38;5;28;01mlambda\u001b[39;00m sound, block \u001b[38;5;241m=\u001b[39m \u001b[38;5;28;01mTrue\u001b[39;00m: \u001b[43m_playsoundAnotherPython\u001b[49m\u001b[43m(\u001b[49m\u001b[38;5;124;43m'\u001b[39;49m\u001b[38;5;124;43m/System/Library/Frameworks/Python.framework/Versions/2.7/bin/python\u001b[39;49m\u001b[38;5;124;43m'\u001b[39;49m\u001b[43m,\u001b[49m\u001b[43m \u001b[49m\u001b[43msound\u001b[49m\u001b[43m,\u001b[49m\u001b[43m \u001b[49m\u001b[43mblock\u001b[49m\u001b[43m,\u001b[49m\u001b[43m \u001b[49m\u001b[43mmacOS\u001b[49m\u001b[43m \u001b[49m\u001b[38;5;241;43m=\u001b[39;49m\u001b[43m \u001b[49m\u001b[38;5;28;43;01mTrue\u001b[39;49;00m\u001b[43m)\u001b[49m\n\u001b[1;32m    245\u001b[0m \u001b[38;5;28;01melse\u001b[39;00m:\n\u001b[1;32m    246\u001b[0m     playsound \u001b[38;5;241m=\u001b[39m _playsoundNix\n",
      "File \u001b[0;32m/usr/local/lib/python3.10/site-packages/playsound.py:229\u001b[0m, in \u001b[0;36m_playsoundAnotherPython\u001b[0;34m(otherPython, sound, block, macOS)\u001b[0m\n\u001b[1;32m    227\u001b[0m t\u001b[38;5;241m.\u001b[39mstart()\n\u001b[1;32m    228\u001b[0m \u001b[38;5;28;01mif\u001b[39;00m block:\n\u001b[0;32m--> 229\u001b[0m     \u001b[43mt\u001b[49m\u001b[38;5;241;43m.\u001b[39;49m\u001b[43mjoin\u001b[49m\u001b[43m(\u001b[49m\u001b[43m)\u001b[49m\n",
      "File \u001b[0;32m/usr/local/lib/python3.10/site-packages/playsound.py:218\u001b[0m, in \u001b[0;36m_playsoundAnotherPython.<locals>.PropogatingThread.join\u001b[0;34m(self, timeout)\u001b[0m\n\u001b[1;32m    216\u001b[0m \u001b[38;5;28msuper\u001b[39m()\u001b[38;5;241m.\u001b[39mjoin(timeout)\n\u001b[1;32m    217\u001b[0m \u001b[38;5;28;01mif\u001b[39;00m \u001b[38;5;28mself\u001b[39m\u001b[38;5;241m.\u001b[39mexc:\n\u001b[0;32m--> 218\u001b[0m     \u001b[38;5;28;01mraise\u001b[39;00m \u001b[38;5;28mself\u001b[39m\u001b[38;5;241m.\u001b[39mexc\n\u001b[1;32m    219\u001b[0m \u001b[38;5;28;01mreturn\u001b[39;00m \u001b[38;5;28mself\u001b[39m\u001b[38;5;241m.\u001b[39mret\n",
      "File \u001b[0;32m/usr/local/lib/python3.10/site-packages/playsound.py:211\u001b[0m, in \u001b[0;36m_playsoundAnotherPython.<locals>.PropogatingThread.run\u001b[0;34m(self)\u001b[0m\n\u001b[1;32m    209\u001b[0m \u001b[38;5;28mself\u001b[39m\u001b[38;5;241m.\u001b[39mexc \u001b[38;5;241m=\u001b[39m \u001b[38;5;28;01mNone\u001b[39;00m\n\u001b[1;32m    210\u001b[0m \u001b[38;5;28;01mtry\u001b[39;00m:\n\u001b[0;32m--> 211\u001b[0m     \u001b[38;5;28mself\u001b[39m\u001b[38;5;241m.\u001b[39mret \u001b[38;5;241m=\u001b[39m \u001b[38;5;28;43mself\u001b[39;49m\u001b[38;5;241;43m.\u001b[39;49m\u001b[43m_target\u001b[49m\u001b[43m(\u001b[49m\u001b[38;5;241;43m*\u001b[39;49m\u001b[38;5;28;43mself\u001b[39;49m\u001b[38;5;241;43m.\u001b[39;49m\u001b[43m_args\u001b[49m\u001b[43m,\u001b[49m\u001b[43m \u001b[49m\u001b[38;5;241;43m*\u001b[39;49m\u001b[38;5;241;43m*\u001b[39;49m\u001b[38;5;28;43mself\u001b[39;49m\u001b[38;5;241;43m.\u001b[39;49m\u001b[43m_kwargs\u001b[49m\u001b[43m)\u001b[49m\n\u001b[1;32m    212\u001b[0m \u001b[38;5;28;01mexcept\u001b[39;00m \u001b[38;5;167;01mBaseException\u001b[39;00m \u001b[38;5;28;01mas\u001b[39;00m e:\n\u001b[1;32m    213\u001b[0m     \u001b[38;5;28mself\u001b[39m\u001b[38;5;241m.\u001b[39mexc \u001b[38;5;241m=\u001b[39m e\n",
      "File \u001b[0;32m/usr/local/lib/python3.10/site-packages/playsound.py:226\u001b[0m, in \u001b[0;36m_playsoundAnotherPython.<locals>.<lambda>\u001b[0;34m()\u001b[0m\n\u001b[1;32m    223\u001b[0m     \u001b[38;5;28;01mraise\u001b[39;00m PlaysoundException(\u001b[38;5;124m'\u001b[39m\u001b[38;5;124mCannot find a sound with filename: \u001b[39m\u001b[38;5;124m'\u001b[39m \u001b[38;5;241m+\u001b[39m sound)\n\u001b[1;32m    225\u001b[0m playsoundPath \u001b[38;5;241m=\u001b[39m abspath(getsourcefile(\u001b[38;5;28;01mlambda\u001b[39;00m: \u001b[38;5;241m0\u001b[39m))\n\u001b[0;32m--> 226\u001b[0m t \u001b[38;5;241m=\u001b[39m PropogatingThread(target \u001b[38;5;241m=\u001b[39m \u001b[38;5;28;01mlambda\u001b[39;00m: \u001b[43mcheck_call\u001b[49m\u001b[43m(\u001b[49m\u001b[43m[\u001b[49m\u001b[43motherPython\u001b[49m\u001b[43m,\u001b[49m\u001b[43m \u001b[49m\u001b[43mplaysoundPath\u001b[49m\u001b[43m,\u001b[49m\u001b[43m \u001b[49m\u001b[43m_handlePathOSX\u001b[49m\u001b[43m(\u001b[49m\u001b[43msound\u001b[49m\u001b[43m)\u001b[49m\u001b[43m \u001b[49m\u001b[38;5;28;43;01mif\u001b[39;49;00m\u001b[43m \u001b[49m\u001b[43mmacOS\u001b[49m\u001b[43m \u001b[49m\u001b[38;5;28;43;01melse\u001b[39;49;00m\u001b[43m \u001b[49m\u001b[43msound\u001b[49m\u001b[43m]\u001b[49m\u001b[43m)\u001b[49m)\n\u001b[1;32m    227\u001b[0m t\u001b[38;5;241m.\u001b[39mstart()\n\u001b[1;32m    228\u001b[0m \u001b[38;5;28;01mif\u001b[39;00m block:\n",
      "File \u001b[0;32m/usr/local/Cellar/python@3.10/3.10.4/Frameworks/Python.framework/Versions/3.10/lib/python3.10/subprocess.py:364\u001b[0m, in \u001b[0;36mcheck_call\u001b[0;34m(*popenargs, **kwargs)\u001b[0m\n\u001b[1;32m    354\u001b[0m \u001b[38;5;28;01mdef\u001b[39;00m \u001b[38;5;21mcheck_call\u001b[39m(\u001b[38;5;241m*\u001b[39mpopenargs, \u001b[38;5;241m*\u001b[39m\u001b[38;5;241m*\u001b[39mkwargs):\n\u001b[1;32m    355\u001b[0m     \u001b[38;5;124;03m\"\"\"Run command with arguments.  Wait for command to complete.  If\u001b[39;00m\n\u001b[1;32m    356\u001b[0m \u001b[38;5;124;03m    the exit code was zero then return, otherwise raise\u001b[39;00m\n\u001b[1;32m    357\u001b[0m \u001b[38;5;124;03m    CalledProcessError.  The CalledProcessError object will have the\u001b[39;00m\n\u001b[0;32m   (...)\u001b[0m\n\u001b[1;32m    362\u001b[0m \u001b[38;5;124;03m    check_call([\"ls\", \"-l\"])\u001b[39;00m\n\u001b[1;32m    363\u001b[0m \u001b[38;5;124;03m    \"\"\"\u001b[39;00m\n\u001b[0;32m--> 364\u001b[0m     retcode \u001b[38;5;241m=\u001b[39m \u001b[43mcall\u001b[49m\u001b[43m(\u001b[49m\u001b[38;5;241;43m*\u001b[39;49m\u001b[43mpopenargs\u001b[49m\u001b[43m,\u001b[49m\u001b[43m \u001b[49m\u001b[38;5;241;43m*\u001b[39;49m\u001b[38;5;241;43m*\u001b[39;49m\u001b[43mkwargs\u001b[49m\u001b[43m)\u001b[49m\n\u001b[1;32m    365\u001b[0m     \u001b[38;5;28;01mif\u001b[39;00m retcode:\n\u001b[1;32m    366\u001b[0m         cmd \u001b[38;5;241m=\u001b[39m kwargs\u001b[38;5;241m.\u001b[39mget(\u001b[38;5;124m\"\u001b[39m\u001b[38;5;124margs\u001b[39m\u001b[38;5;124m\"\u001b[39m)\n",
      "File \u001b[0;32m/usr/local/Cellar/python@3.10/3.10.4/Frameworks/Python.framework/Versions/3.10/lib/python3.10/subprocess.py:345\u001b[0m, in \u001b[0;36mcall\u001b[0;34m(timeout, *popenargs, **kwargs)\u001b[0m\n\u001b[1;32m    337\u001b[0m \u001b[38;5;28;01mdef\u001b[39;00m \u001b[38;5;21mcall\u001b[39m(\u001b[38;5;241m*\u001b[39mpopenargs, timeout\u001b[38;5;241m=\u001b[39m\u001b[38;5;28;01mNone\u001b[39;00m, \u001b[38;5;241m*\u001b[39m\u001b[38;5;241m*\u001b[39mkwargs):\n\u001b[1;32m    338\u001b[0m     \u001b[38;5;124;03m\"\"\"Run command with arguments.  Wait for command to complete or\u001b[39;00m\n\u001b[1;32m    339\u001b[0m \u001b[38;5;124;03m    timeout, then return the returncode attribute.\u001b[39;00m\n\u001b[1;32m    340\u001b[0m \n\u001b[0;32m   (...)\u001b[0m\n\u001b[1;32m    343\u001b[0m \u001b[38;5;124;03m    retcode = call([\"ls\", \"-l\"])\u001b[39;00m\n\u001b[1;32m    344\u001b[0m \u001b[38;5;124;03m    \"\"\"\u001b[39;00m\n\u001b[0;32m--> 345\u001b[0m     \u001b[38;5;28;01mwith\u001b[39;00m \u001b[43mPopen\u001b[49m\u001b[43m(\u001b[49m\u001b[38;5;241;43m*\u001b[39;49m\u001b[43mpopenargs\u001b[49m\u001b[43m,\u001b[49m\u001b[43m \u001b[49m\u001b[38;5;241;43m*\u001b[39;49m\u001b[38;5;241;43m*\u001b[39;49m\u001b[43mkwargs\u001b[49m\u001b[43m)\u001b[49m \u001b[38;5;28;01mas\u001b[39;00m p:\n\u001b[1;32m    346\u001b[0m         \u001b[38;5;28;01mtry\u001b[39;00m:\n\u001b[1;32m    347\u001b[0m             \u001b[38;5;28;01mreturn\u001b[39;00m p\u001b[38;5;241m.\u001b[39mwait(timeout\u001b[38;5;241m=\u001b[39mtimeout)\n",
      "File \u001b[0;32m/usr/local/Cellar/python@3.10/3.10.4/Frameworks/Python.framework/Versions/3.10/lib/python3.10/subprocess.py:966\u001b[0m, in \u001b[0;36mPopen.__init__\u001b[0;34m(self, args, bufsize, executable, stdin, stdout, stderr, preexec_fn, close_fds, shell, cwd, env, universal_newlines, startupinfo, creationflags, restore_signals, start_new_session, pass_fds, user, group, extra_groups, encoding, errors, text, umask, pipesize)\u001b[0m\n\u001b[1;32m    962\u001b[0m         \u001b[38;5;28;01mif\u001b[39;00m \u001b[38;5;28mself\u001b[39m\u001b[38;5;241m.\u001b[39mtext_mode:\n\u001b[1;32m    963\u001b[0m             \u001b[38;5;28mself\u001b[39m\u001b[38;5;241m.\u001b[39mstderr \u001b[38;5;241m=\u001b[39m io\u001b[38;5;241m.\u001b[39mTextIOWrapper(\u001b[38;5;28mself\u001b[39m\u001b[38;5;241m.\u001b[39mstderr,\n\u001b[1;32m    964\u001b[0m                     encoding\u001b[38;5;241m=\u001b[39mencoding, errors\u001b[38;5;241m=\u001b[39merrors)\n\u001b[0;32m--> 966\u001b[0m     \u001b[38;5;28;43mself\u001b[39;49m\u001b[38;5;241;43m.\u001b[39;49m\u001b[43m_execute_child\u001b[49m\u001b[43m(\u001b[49m\u001b[43margs\u001b[49m\u001b[43m,\u001b[49m\u001b[43m \u001b[49m\u001b[43mexecutable\u001b[49m\u001b[43m,\u001b[49m\u001b[43m \u001b[49m\u001b[43mpreexec_fn\u001b[49m\u001b[43m,\u001b[49m\u001b[43m \u001b[49m\u001b[43mclose_fds\u001b[49m\u001b[43m,\u001b[49m\n\u001b[1;32m    967\u001b[0m \u001b[43m                        \u001b[49m\u001b[43mpass_fds\u001b[49m\u001b[43m,\u001b[49m\u001b[43m \u001b[49m\u001b[43mcwd\u001b[49m\u001b[43m,\u001b[49m\u001b[43m \u001b[49m\u001b[43menv\u001b[49m\u001b[43m,\u001b[49m\n\u001b[1;32m    968\u001b[0m \u001b[43m                        \u001b[49m\u001b[43mstartupinfo\u001b[49m\u001b[43m,\u001b[49m\u001b[43m \u001b[49m\u001b[43mcreationflags\u001b[49m\u001b[43m,\u001b[49m\u001b[43m \u001b[49m\u001b[43mshell\u001b[49m\u001b[43m,\u001b[49m\n\u001b[1;32m    969\u001b[0m \u001b[43m                        \u001b[49m\u001b[43mp2cread\u001b[49m\u001b[43m,\u001b[49m\u001b[43m \u001b[49m\u001b[43mp2cwrite\u001b[49m\u001b[43m,\u001b[49m\n\u001b[1;32m    970\u001b[0m \u001b[43m                        \u001b[49m\u001b[43mc2pread\u001b[49m\u001b[43m,\u001b[49m\u001b[43m \u001b[49m\u001b[43mc2pwrite\u001b[49m\u001b[43m,\u001b[49m\n\u001b[1;32m    971\u001b[0m \u001b[43m                        \u001b[49m\u001b[43merrread\u001b[49m\u001b[43m,\u001b[49m\u001b[43m \u001b[49m\u001b[43merrwrite\u001b[49m\u001b[43m,\u001b[49m\n\u001b[1;32m    972\u001b[0m \u001b[43m                        \u001b[49m\u001b[43mrestore_signals\u001b[49m\u001b[43m,\u001b[49m\n\u001b[1;32m    973\u001b[0m \u001b[43m                        \u001b[49m\u001b[43mgid\u001b[49m\u001b[43m,\u001b[49m\u001b[43m \u001b[49m\u001b[43mgids\u001b[49m\u001b[43m,\u001b[49m\u001b[43m \u001b[49m\u001b[43muid\u001b[49m\u001b[43m,\u001b[49m\u001b[43m \u001b[49m\u001b[43mumask\u001b[49m\u001b[43m,\u001b[49m\n\u001b[1;32m    974\u001b[0m \u001b[43m                        \u001b[49m\u001b[43mstart_new_session\u001b[49m\u001b[43m)\u001b[49m\n\u001b[1;32m    975\u001b[0m \u001b[38;5;28;01mexcept\u001b[39;00m:\n\u001b[1;32m    976\u001b[0m     \u001b[38;5;66;03m# Cleanup if the child failed starting.\u001b[39;00m\n\u001b[1;32m    977\u001b[0m     \u001b[38;5;28;01mfor\u001b[39;00m f \u001b[38;5;129;01min\u001b[39;00m \u001b[38;5;28mfilter\u001b[39m(\u001b[38;5;28;01mNone\u001b[39;00m, (\u001b[38;5;28mself\u001b[39m\u001b[38;5;241m.\u001b[39mstdin, \u001b[38;5;28mself\u001b[39m\u001b[38;5;241m.\u001b[39mstdout, \u001b[38;5;28mself\u001b[39m\u001b[38;5;241m.\u001b[39mstderr)):\n",
      "File \u001b[0;32m/usr/local/Cellar/python@3.10/3.10.4/Frameworks/Python.framework/Versions/3.10/lib/python3.10/subprocess.py:1842\u001b[0m, in \u001b[0;36mPopen._execute_child\u001b[0;34m(self, args, executable, preexec_fn, close_fds, pass_fds, cwd, env, startupinfo, creationflags, shell, p2cread, p2cwrite, c2pread, c2pwrite, errread, errwrite, restore_signals, gid, gids, uid, umask, start_new_session)\u001b[0m\n\u001b[1;32m   1840\u001b[0m     \u001b[38;5;28;01mif\u001b[39;00m errno_num \u001b[38;5;241m!=\u001b[39m \u001b[38;5;241m0\u001b[39m:\n\u001b[1;32m   1841\u001b[0m         err_msg \u001b[38;5;241m=\u001b[39m os\u001b[38;5;241m.\u001b[39mstrerror(errno_num)\n\u001b[0;32m-> 1842\u001b[0m     \u001b[38;5;28;01mraise\u001b[39;00m child_exception_type(errno_num, err_msg, err_filename)\n\u001b[1;32m   1843\u001b[0m \u001b[38;5;28;01mraise\u001b[39;00m child_exception_type(err_msg)\n",
      "\u001b[0;31mFileNotFoundError\u001b[0m: [Errno 2] No such file or directory: '/System/Library/Frameworks/Python.framework/Versions/2.7/bin/python'"
     ]
    }
   ],
   "source": [
    "playsound(\"hello.mp3\")"
   ]
  },
  {
   "cell_type": "code",
   "execution_count": 81,
   "id": "7248a199",
   "metadata": {},
   "outputs": [
    {
     "name": "stdout",
     "output_type": "stream",
     "text": [
      "Requirement already satisfied: PyObjC in ./venv/lib/python3.9/site-packages (8.5)\n",
      "Requirement already satisfied: pyobjc-framework-Contacts==8.5 in ./venv/lib/python3.9/site-packages (from PyObjC) (8.5)\n",
      "Requirement already satisfied: pyobjc-framework-Accounts==8.5 in ./venv/lib/python3.9/site-packages (from PyObjC) (8.5)\n",
      "Requirement already satisfied: pyobjc-framework-ContactsUI==8.5 in ./venv/lib/python3.9/site-packages (from PyObjC) (8.5)\n",
      "Requirement already satisfied: pyobjc-framework-AVFoundation==8.5 in ./venv/lib/python3.9/site-packages (from PyObjC) (8.5)\n",
      "Requirement already satisfied: pyobjc-framework-ReplayKit==8.5 in ./venv/lib/python3.9/site-packages (from PyObjC) (8.5)\n",
      "Requirement already satisfied: pyobjc-framework-CoreData==8.5 in ./venv/lib/python3.9/site-packages (from PyObjC) (8.5)\n",
      "Requirement already satisfied: pyobjc-framework-CoreText==8.5 in ./venv/lib/python3.9/site-packages (from PyObjC) (8.5)\n",
      "Requirement already satisfied: pyobjc-framework-SoundAnalysis==8.5 in ./venv/lib/python3.9/site-packages (from PyObjC) (8.5)\n",
      "Requirement already satisfied: pyobjc-framework-OSLog==8.5 in ./venv/lib/python3.9/site-packages (from PyObjC) (8.5)\n",
      "Requirement already satisfied: pyobjc-framework-AddressBook==8.5 in ./venv/lib/python3.9/site-packages (from PyObjC) (8.5)\n",
      "Requirement already satisfied: pyobjc-framework-Intents==8.5 in ./venv/lib/python3.9/site-packages (from PyObjC) (8.5)\n",
      "Requirement already satisfied: pyobjc-framework-CloudKit==8.5 in ./venv/lib/python3.9/site-packages (from PyObjC) (8.5)\n",
      "Requirement already satisfied: pyobjc-framework-AppleScriptKit==8.5 in ./venv/lib/python3.9/site-packages (from PyObjC) (8.5)\n",
      "Requirement already satisfied: pyobjc-framework-PushKit==8.5 in ./venv/lib/python3.9/site-packages (from PyObjC) (8.5)\n",
      "Requirement already satisfied: pyobjc-framework-Network==8.5 in ./venv/lib/python3.9/site-packages (from PyObjC) (8.5)\n",
      "Requirement already satisfied: pyobjc-framework-Automator==8.5 in ./venv/lib/python3.9/site-packages (from PyObjC) (8.5)\n",
      "Requirement already satisfied: pyobjc-framework-NetFS==8.5 in ./venv/lib/python3.9/site-packages (from PyObjC) (8.5)\n",
      "Requirement already satisfied: pyobjc-framework-MailKit==8.5 in ./venv/lib/python3.9/site-packages (from PyObjC) (8.5)\n",
      "Requirement already satisfied: pyobjc-framework-DiskArbitration==8.5 in ./venv/lib/python3.9/site-packages (from PyObjC) (8.5)\n",
      "Requirement already satisfied: pyobjc-framework-DiscRecordingUI==8.5 in ./venv/lib/python3.9/site-packages (from PyObjC) (8.5)\n",
      "Requirement already satisfied: pyobjc-framework-AppleScriptObjC==8.5 in ./venv/lib/python3.9/site-packages (from PyObjC) (8.5)\n",
      "Requirement already satisfied: pyobjc-framework-ColorSync==8.5 in ./venv/lib/python3.9/site-packages (from PyObjC) (8.5)\n",
      "Requirement already satisfied: pyobjc-framework-DiscRecording==8.5 in ./venv/lib/python3.9/site-packages (from PyObjC) (8.5)\n",
      "Requirement already satisfied: pyobjc-framework-CryptoTokenKit==8.5 in ./venv/lib/python3.9/site-packages (from PyObjC) (8.5)\n",
      "Requirement already satisfied: pyobjc-framework-CoreMotion==8.5 in ./venv/lib/python3.9/site-packages (from PyObjC) (8.5)\n",
      "Requirement already satisfied: pyobjc-framework-PencilKit==8.5 in ./venv/lib/python3.9/site-packages (from PyObjC) (8.5)\n",
      "Requirement already satisfied: pyobjc-core==8.5 in ./venv/lib/python3.9/site-packages (from PyObjC) (8.5)\n",
      "Requirement already satisfied: pyobjc-framework-IOSurface==8.5 in ./venv/lib/python3.9/site-packages (from PyObjC) (8.5)\n",
      "Requirement already satisfied: pyobjc-framework-ImageCaptureCore==8.5 in ./venv/lib/python3.9/site-packages (from PyObjC) (8.5)\n",
      "Requirement already satisfied: pyobjc-framework-SafariServices==8.5 in ./venv/lib/python3.9/site-packages (from PyObjC) (8.5)\n",
      "Requirement already satisfied: pyobjc-framework-MediaAccessibility==8.5 in ./venv/lib/python3.9/site-packages (from PyObjC) (8.5)\n",
      "Requirement already satisfied: pyobjc-framework-AuthenticationServices==8.5 in ./venv/lib/python3.9/site-packages (from PyObjC) (8.5)\n",
      "Requirement already satisfied: pyobjc-framework-PreferencePanes==8.5 in ./venv/lib/python3.9/site-packages (from PyObjC) (8.5)\n",
      "Requirement already satisfied: pyobjc-framework-SearchKit==8.5 in ./venv/lib/python3.9/site-packages (from PyObjC) (8.5)\n",
      "Requirement already satisfied: pyobjc-framework-AVKit==8.5 in ./venv/lib/python3.9/site-packages (from PyObjC) (8.5)\n",
      "Requirement already satisfied: pyobjc-framework-GameKit==8.5 in ./venv/lib/python3.9/site-packages (from PyObjC) (8.5)\n",
      "Requirement already satisfied: pyobjc-framework-UserNotifications==8.5 in ./venv/lib/python3.9/site-packages (from PyObjC) (8.5)\n",
      "Requirement already satisfied: pyobjc-framework-iTunesLibrary==8.5 in ./venv/lib/python3.9/site-packages (from PyObjC) (8.5)\n",
      "Requirement already satisfied: pyobjc-framework-VideoSubscriberAccount==8.5 in ./venv/lib/python3.9/site-packages (from PyObjC) (8.5)\n",
      "Requirement already satisfied: pyobjc-framework-Collaboration==8.5 in ./venv/lib/python3.9/site-packages (from PyObjC) (8.5)\n",
      "Requirement already satisfied: pyobjc-framework-GameController==8.5 in ./venv/lib/python3.9/site-packages (from PyObjC) (8.5)\n",
      "Requirement already satisfied: pyobjc-framework-CoreLocation==8.5 in ./venv/lib/python3.9/site-packages (from PyObjC) (8.5)\n",
      "Requirement already satisfied: pyobjc-framework-Quartz==8.5 in ./venv/lib/python3.9/site-packages (from PyObjC) (8.5)\n",
      "Requirement already satisfied: pyobjc-framework-KernelManagement==8.5 in ./venv/lib/python3.9/site-packages (from PyObjC) (8.5)\n",
      "Requirement already satisfied: pyobjc-framework-DataDetection==8.5 in ./venv/lib/python3.9/site-packages (from PyObjC) (8.5)\n",
      "Requirement already satisfied: pyobjc-framework-LatentSemanticMapping==8.5 in ./venv/lib/python3.9/site-packages (from PyObjC) (8.5)\n",
      "Requirement already satisfied: pyobjc-framework-OpenDirectory==8.5 in ./venv/lib/python3.9/site-packages (from PyObjC) (8.5)\n",
      "Requirement already satisfied: pyobjc-framework-IMServicePlugIn==8.5 in ./venv/lib/python3.9/site-packages (from PyObjC) (8.5)\n",
      "Requirement already satisfied: pyobjc-framework-LinkPresentation==8.5 in ./venv/lib/python3.9/site-packages (from PyObjC) (8.5)\n",
      "Requirement already satisfied: pyobjc-framework-IntentsUI==8.5 in ./venv/lib/python3.9/site-packages (from PyObjC) (8.5)\n",
      "Requirement already satisfied: pyobjc-framework-AdServices==8.5 in ./venv/lib/python3.9/site-packages (from PyObjC) (8.5)\n",
      "Requirement already satisfied: pyobjc-framework-EventKit==8.5 in ./venv/lib/python3.9/site-packages (from PyObjC) (8.5)\n",
      "Requirement already satisfied: pyobjc-framework-DeviceCheck==8.5 in ./venv/lib/python3.9/site-packages (from PyObjC) (8.5)\n",
      "Requirement already satisfied: pyobjc-framework-ScreenSaver==8.5 in ./venv/lib/python3.9/site-packages (from PyObjC) (8.5)\n",
      "Requirement already satisfied: pyobjc-framework-SceneKit==8.5 in ./venv/lib/python3.9/site-packages (from PyObjC) (8.5)\n",
      "Requirement already satisfied: pyobjc-framework-AudioVideoBridging==8.5 in ./venv/lib/python3.9/site-packages (from PyObjC) (8.5)\n",
      "Requirement already satisfied: pyobjc-framework-PhotosUI==8.5 in ./venv/lib/python3.9/site-packages (from PyObjC) (8.5)\n",
      "Requirement already satisfied: pyobjc-framework-FileProvider==8.5 in ./venv/lib/python3.9/site-packages (from PyObjC) (8.5)\n",
      "Requirement already satisfied: pyobjc-framework-MediaPlayer==8.5 in ./venv/lib/python3.9/site-packages (from PyObjC) (8.5)\n",
      "Requirement already satisfied: pyobjc-framework-ExecutionPolicy==8.5 in ./venv/lib/python3.9/site-packages (from PyObjC) (8.5)\n",
      "Requirement already satisfied: pyobjc-framework-InputMethodKit==8.5 in ./venv/lib/python3.9/site-packages (from PyObjC) (8.5)\n",
      "Requirement already satisfied: pyobjc-framework-ScriptingBridge==8.5 in ./venv/lib/python3.9/site-packages (from PyObjC) (8.5)\n",
      "Requirement already satisfied: pyobjc-framework-QuickLookThumbnailing==8.5 in ./venv/lib/python3.9/site-packages (from PyObjC) (8.5)\n",
      "Requirement already satisfied: pyobjc-framework-PassKit==8.5 in ./venv/lib/python3.9/site-packages (from PyObjC) (8.5)\n",
      "Requirement already satisfied: pyobjc-framework-CalendarStore==8.5 in ./venv/lib/python3.9/site-packages (from PyObjC) (8.5)\n",
      "Requirement already satisfied: pyobjc-framework-CoreMedia==8.5 in ./venv/lib/python3.9/site-packages (from PyObjC) (8.5)\n",
      "Requirement already satisfied: pyobjc-framework-CoreSpotlight==8.5 in ./venv/lib/python3.9/site-packages (from PyObjC) (8.5)\n",
      "Requirement already satisfied: pyobjc-framework-FinderSync==8.5 in ./venv/lib/python3.9/site-packages (from PyObjC) (8.5)\n",
      "Requirement already satisfied: pyobjc-framework-CallKit==8.5 in ./venv/lib/python3.9/site-packages (from PyObjC) (8.5)\n",
      "Requirement already satisfied: pyobjc-framework-AdSupport==8.5 in ./venv/lib/python3.9/site-packages (from PyObjC) (8.5)\n",
      "Requirement already satisfied: pyobjc-framework-Social==8.5 in ./venv/lib/python3.9/site-packages (from PyObjC) (8.5)\n",
      "Requirement already satisfied: pyobjc-framework-MediaToolbox==8.5 in ./venv/lib/python3.9/site-packages (from PyObjC) (8.5)\n",
      "Requirement already satisfied: pyobjc-framework-LocalAuthenticationEmbeddedUI==8.5 in ./venv/lib/python3.9/site-packages (from PyObjC) (8.5)\n",
      "Requirement already satisfied: pyobjc-framework-InstallerPlugins==8.5 in ./venv/lib/python3.9/site-packages (from PyObjC) (8.5)\n",
      "Requirement already satisfied: pyobjc-framework-SyncServices==8.5 in ./venv/lib/python3.9/site-packages (from PyObjC) (8.5)\n",
      "Requirement already satisfied: pyobjc-framework-ScreenTime==8.5 in ./venv/lib/python3.9/site-packages (from PyObjC) (8.5)\n",
      "Requirement already satisfied: pyobjc-framework-ClassKit==8.5 in ./venv/lib/python3.9/site-packages (from PyObjC) (8.5)\n",
      "Requirement already satisfied: pyobjc-framework-ScreenCaptureKit==8.5 in ./venv/lib/python3.9/site-packages (from PyObjC) (8.5)\n",
      "Requirement already satisfied: pyobjc-framework-StoreKit==8.5 in ./venv/lib/python3.9/site-packages (from PyObjC) (8.5)\n",
      "Requirement already satisfied: pyobjc-framework-WebKit==8.5 in ./venv/lib/python3.9/site-packages (from PyObjC) (8.5)\n",
      "Requirement already satisfied: pyobjc-framework-Speech==8.5 in ./venv/lib/python3.9/site-packages (from PyObjC) (8.5)\n",
      "Requirement already satisfied: pyobjc-framework-GameplayKit==8.5 in ./venv/lib/python3.9/site-packages (from PyObjC) (8.5)\n",
      "Requirement already satisfied: pyobjc-framework-SpriteKit==8.5 in ./venv/lib/python3.9/site-packages (from PyObjC) (8.5)\n",
      "Requirement already satisfied: pyobjc-framework-AutomaticAssessmentConfiguration==8.5 in ./venv/lib/python3.9/site-packages (from PyObjC) (8.5)\n",
      "Requirement already satisfied: pyobjc-framework-MetalPerformanceShadersGraph==8.5 in ./venv/lib/python3.9/site-packages (from PyObjC) (8.5)\n",
      "Requirement already satisfied: pyobjc-framework-InstantMessage==8.5 in ./venv/lib/python3.9/site-packages (from PyObjC) (8.5)\n",
      "Requirement already satisfied: pyobjc-framework-OSAKit==8.5 in ./venv/lib/python3.9/site-packages (from PyObjC) (8.5)\n",
      "Requirement already satisfied: pyobjc-framework-MediaLibrary==8.5 in ./venv/lib/python3.9/site-packages (from PyObjC) (8.5)\n",
      "Requirement already satisfied: pyobjc-framework-CoreML==8.5 in ./venv/lib/python3.9/site-packages (from PyObjC) (8.5)\n"
     ]
    },
    {
     "name": "stdout",
     "output_type": "stream",
     "text": [
      "Requirement already satisfied: pyobjc-framework-Photos==8.5 in ./venv/lib/python3.9/site-packages (from PyObjC) (8.5)\n",
      "Requirement already satisfied: pyobjc-framework-VideoToolbox==8.5 in ./venv/lib/python3.9/site-packages (from PyObjC) (8.5)\n",
      "Requirement already satisfied: pyobjc-framework-NaturalLanguage==8.5 in ./venv/lib/python3.9/site-packages (from PyObjC) (8.5)\n",
      "Requirement already satisfied: pyobjc-framework-ModelIO==8.5 in ./venv/lib/python3.9/site-packages (from PyObjC) (8.5)\n",
      "Requirement already satisfied: pyobjc-framework-CFNetwork==8.5 in ./venv/lib/python3.9/site-packages (from PyObjC) (8.5)\n",
      "Requirement already satisfied: pyobjc-framework-CoreMediaIO==8.5 in ./venv/lib/python3.9/site-packages (from PyObjC) (8.5)\n",
      "Requirement already satisfied: pyobjc-framework-MetalKit==8.5 in ./venv/lib/python3.9/site-packages (from PyObjC) (8.5)\n",
      "Requirement already satisfied: pyobjc-framework-Cocoa==8.5 in ./venv/lib/python3.9/site-packages (from PyObjC) (8.5)\n",
      "Requirement already satisfied: pyobjc-framework-FSEvents==8.5 in ./venv/lib/python3.9/site-packages (from PyObjC) (8.5)\n",
      "Requirement already satisfied: pyobjc-framework-FileProviderUI==8.5 in ./venv/lib/python3.9/site-packages (from PyObjC) (8.5)\n",
      "Requirement already satisfied: pyobjc-framework-Vision==8.5 in ./venv/lib/python3.9/site-packages (from PyObjC) (8.5)\n",
      "Requirement already satisfied: pyobjc-framework-MapKit==8.5 in ./venv/lib/python3.9/site-packages (from PyObjC) (8.5)\n",
      "Requirement already satisfied: pyobjc-framework-SecurityFoundation==8.5 in ./venv/lib/python3.9/site-packages (from PyObjC) (8.5)\n",
      "Requirement already satisfied: pyobjc-framework-LaunchServices==8.5 in ./venv/lib/python3.9/site-packages (from PyObjC) (8.5)\n",
      "Requirement already satisfied: pyobjc-framework-GameCenter==8.5 in ./venv/lib/python3.9/site-packages (from PyObjC) (8.5)\n",
      "Requirement already satisfied: pyobjc-framework-ExternalAccessory==8.5 in ./venv/lib/python3.9/site-packages (from PyObjC) (8.5)\n",
      "Requirement already satisfied: pyobjc-framework-CoreWLAN==8.5 in ./venv/lib/python3.9/site-packages (from PyObjC) (8.5)\n",
      "Requirement already satisfied: pyobjc-framework-Accessibility==8.5 in ./venv/lib/python3.9/site-packages (from PyObjC) (8.5)\n",
      "Requirement already satisfied: pyobjc-framework-ApplicationServices==8.5 in ./venv/lib/python3.9/site-packages (from PyObjC) (8.5)\n",
      "Requirement already satisfied: pyobjc-framework-MultipeerConnectivity==8.5 in ./venv/lib/python3.9/site-packages (from PyObjC) (8.5)\n",
      "Requirement already satisfied: pyobjc-framework-DVDPlayback==8.5 in ./venv/lib/python3.9/site-packages (from PyObjC) (8.5)\n",
      "Requirement already satisfied: pyobjc-framework-ShazamKit==8.5 in ./venv/lib/python3.9/site-packages (from PyObjC) (8.5)\n",
      "Requirement already satisfied: pyobjc-framework-DictionaryServices==8.5 in ./venv/lib/python3.9/site-packages (from PyObjC) (8.5)\n",
      "Requirement already satisfied: pyobjc-framework-SystemExtensions==8.5 in ./venv/lib/python3.9/site-packages (from PyObjC) (8.5)\n",
      "Requirement already satisfied: pyobjc-framework-Security==8.5 in ./venv/lib/python3.9/site-packages (from PyObjC) (8.5)\n",
      "Requirement already satisfied: pyobjc-framework-CoreServices==8.5 in ./venv/lib/python3.9/site-packages (from PyObjC) (8.5)\n",
      "Requirement already satisfied: pyobjc-framework-LocalAuthentication==8.5 in ./venv/lib/python3.9/site-packages (from PyObjC) (8.5)\n",
      "Requirement already satisfied: pyobjc-framework-MLCompute==8.5 in ./venv/lib/python3.9/site-packages (from PyObjC) (8.5)\n",
      "Requirement already satisfied: pyobjc-framework-MetricKit==8.5 in ./venv/lib/python3.9/site-packages (from PyObjC) (8.5)\n",
      "Requirement already satisfied: pyobjc-framework-CoreAudioKit==8.5 in ./venv/lib/python3.9/site-packages (from PyObjC) (8.5)\n",
      "Requirement already satisfied: pyobjc-framework-MetalPerformanceShaders==8.5 in ./venv/lib/python3.9/site-packages (from PyObjC) (8.5)\n",
      "Requirement already satisfied: pyobjc-framework-SystemConfiguration==8.5 in ./venv/lib/python3.9/site-packages (from PyObjC) (8.5)\n",
      "Requirement already satisfied: pyobjc-framework-NotificationCenter==8.5 in ./venv/lib/python3.9/site-packages (from PyObjC) (8.5)\n",
      "Requirement already satisfied: pyobjc-framework-ExceptionHandling==8.5 in ./venv/lib/python3.9/site-packages (from PyObjC) (8.5)\n",
      "Requirement already satisfied: pyobjc-framework-CoreBluetooth==8.5 in ./venv/lib/python3.9/site-packages (from PyObjC) (8.5)\n",
      "Requirement already satisfied: pyobjc-framework-UniformTypeIdentifiers==8.5 in ./venv/lib/python3.9/site-packages (from PyObjC) (8.5)\n",
      "Requirement already satisfied: pyobjc-framework-CoreAudio==8.5 in ./venv/lib/python3.9/site-packages (from PyObjC) (8.5)\n",
      "Requirement already satisfied: pyobjc-framework-CoreMIDI==8.5 in ./venv/lib/python3.9/site-packages (from PyObjC) (8.5)\n",
      "Requirement already satisfied: pyobjc-framework-ServiceManagement==8.5 in ./venv/lib/python3.9/site-packages (from PyObjC) (8.5)\n",
      "Requirement already satisfied: pyobjc-framework-libdispatch==8.5 in ./venv/lib/python3.9/site-packages (from PyObjC) (8.5)\n",
      "Requirement already satisfied: pyobjc-framework-Metal==8.5 in ./venv/lib/python3.9/site-packages (from PyObjC) (8.5)\n",
      "Requirement already satisfied: pyobjc-framework-AppTrackingTransparency==8.5 in ./venv/lib/python3.9/site-packages (from PyObjC) (8.5)\n",
      "Requirement already satisfied: pyobjc-framework-NetworkExtension==8.5 in ./venv/lib/python3.9/site-packages (from PyObjC) (8.5)\n",
      "Requirement already satisfied: pyobjc-framework-Virtualization==8.5 in ./venv/lib/python3.9/site-packages (from PyObjC) (8.5)\n",
      "Requirement already satisfied: pyobjc-framework-UserNotificationsUI==8.5 in ./venv/lib/python3.9/site-packages (from PyObjC) (8.5)\n",
      "Requirement already satisfied: pyobjc-framework-CoreHaptics==8.5 in ./venv/lib/python3.9/site-packages (from PyObjC) (8.5)\n",
      "Requirement already satisfied: pyobjc-framework-BusinessChat==8.5 in ./venv/lib/python3.9/site-packages (from PyObjC) (8.5)\n",
      "Requirement already satisfied: pyobjc-framework-SecurityInterface==8.5 in ./venv/lib/python3.9/site-packages (from PyObjC) (8.5)\n",
      "\u001b[33mWARNING: You are using pip version 21.1.2; however, version 22.1.2 is available.\n",
      "You should consider upgrading via the '/Users/rkorzen/PycharmProjects/kurs_13_06_2022/venv/bin/python -m pip install --upgrade pip' command.\u001b[0m\n"
     ]
    }
   ],
   "source": [
    "!pip3 install PyObjC"
   ]
  },
  {
   "cell_type": "code",
   "execution_count": null,
   "id": "0c3a8e0b",
   "metadata": {},
   "outputs": [],
   "source": []
  }
 ],
 "metadata": {
  "kernelspec": {
   "display_name": "Python 3 (ipykernel)",
   "language": "python",
   "name": "python3"
  },
  "language_info": {
   "codemirror_mode": {
    "name": "ipython",
    "version": 3
   },
   "file_extension": ".py",
   "mimetype": "text/x-python",
   "name": "python",
   "nbconvert_exporter": "python",
   "pygments_lexer": "ipython3",
   "version": "3.10.4"
  },
  "toc": {
   "base_numbering": 1,
   "nav_menu": {},
   "number_sections": true,
   "sideBar": true,
   "skip_h1_title": false,
   "title_cell": "Table of Contents",
   "title_sidebar": "Contents",
   "toc_cell": false,
   "toc_position": {},
   "toc_section_display": true,
   "toc_window_display": false
  }
 },
 "nbformat": 4,
 "nbformat_minor": 5
}
