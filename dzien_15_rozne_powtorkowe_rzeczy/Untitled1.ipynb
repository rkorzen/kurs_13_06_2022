{
 "cells": [
  {
   "cell_type": "markdown",
   "id": "8dc2d590",
   "metadata": {},
   "source": [
    "```python\n",
    "isinstance(True, object), isinstance(True, type), isinstance(True, bool)\n",
    "```\n",
    "\n",
    "A) `(True, True, True)`\n",
    "\n",
    "B) `(True, False, True)`"
   ]
  },
  {
   "cell_type": "code",
   "execution_count": 1,
   "id": "aeb85c67",
   "metadata": {},
   "outputs": [
    {
     "data": {
      "text/plain": [
       "(True, False, True)"
      ]
     },
     "execution_count": 1,
     "metadata": {},
     "output_type": "execute_result"
    }
   ],
   "source": [
    "isinstance(True, object), isinstance(True, type), isinstance(True, bool)"
   ]
  },
  {
   "cell_type": "code",
   "execution_count": 2,
   "id": "f56f891b",
   "metadata": {},
   "outputs": [
    {
     "data": {
      "text/plain": [
       "True"
      ]
     },
     "execution_count": 2,
     "metadata": {},
     "output_type": "execute_result"
    }
   ],
   "source": [
    "isinstance(type, object)"
   ]
  },
  {
   "cell_type": "code",
   "execution_count": 3,
   "id": "27b826e4",
   "metadata": {},
   "outputs": [
    {
     "data": {
      "text/plain": [
       "True"
      ]
     },
     "execution_count": 3,
     "metadata": {},
     "output_type": "execute_result"
    }
   ],
   "source": [
    "isinstance(object, type)"
   ]
  },
  {
   "cell_type": "code",
   "execution_count": 4,
   "id": "75ce5b6b",
   "metadata": {},
   "outputs": [
    {
     "data": {
      "text/plain": [
       "True"
      ]
     },
     "execution_count": 4,
     "metadata": {},
     "output_type": "execute_result"
    }
   ],
   "source": [
    "isinstance(object, object)"
   ]
  },
  {
   "cell_type": "code",
   "execution_count": 5,
   "id": "40fad312",
   "metadata": {},
   "outputs": [
    {
     "data": {
      "text/plain": [
       "True"
      ]
     },
     "execution_count": 5,
     "metadata": {},
     "output_type": "execute_result"
    }
   ],
   "source": [
    "isinstance(type, type)"
   ]
  },
  {
   "cell_type": "code",
   "execution_count": 6,
   "id": "72af5aaf",
   "metadata": {},
   "outputs": [
    {
     "data": {
      "text/plain": [
       "int"
      ]
     },
     "execution_count": 6,
     "metadata": {},
     "output_type": "execute_result"
    }
   ],
   "source": [
    "type(1)"
   ]
  },
  {
   "cell_type": "code",
   "execution_count": 7,
   "id": "f85932c3",
   "metadata": {},
   "outputs": [],
   "source": [
    "type?"
   ]
  },
  {
   "cell_type": "code",
   "execution_count": 8,
   "id": "95f264ff",
   "metadata": {},
   "outputs": [
    {
     "data": {
      "text/plain": [
       "True"
      ]
     },
     "execution_count": 8,
     "metadata": {},
     "output_type": "execute_result"
    }
   ],
   "source": [
    "any([True, False, True])"
   ]
  },
  {
   "cell_type": "code",
   "execution_count": 9,
   "id": "70b7783e",
   "metadata": {},
   "outputs": [
    {
     "data": {
      "text/plain": [
       "False"
      ]
     },
     "execution_count": 9,
     "metadata": {},
     "output_type": "execute_result"
    }
   ],
   "source": [
    "any([])"
   ]
  },
  {
   "cell_type": "code",
   "execution_count": 11,
   "id": "7e498f48",
   "metadata": {},
   "outputs": [
    {
     "data": {
      "text/plain": [
       "True"
      ]
     },
     "execution_count": 11,
     "metadata": {},
     "output_type": "execute_result"
    }
   ],
   "source": [
    "all([True, True\n",
    "    ])"
   ]
  },
  {
   "cell_type": "code",
   "execution_count": 12,
   "id": "d747f0aa",
   "metadata": {},
   "outputs": [
    {
     "data": {
      "text/plain": [
       "True"
      ]
     },
     "execution_count": 12,
     "metadata": {},
     "output_type": "execute_result"
    }
   ],
   "source": [
    "all([])"
   ]
  },
  {
   "cell_type": "code",
   "execution_count": 13,
   "id": "7e8031af",
   "metadata": {},
   "outputs": [
    {
     "data": {
      "text/plain": [
       "4"
      ]
     },
     "execution_count": 13,
     "metadata": {},
     "output_type": "execute_result"
    }
   ],
   "source": [
    "round(7/2)"
   ]
  },
  {
   "cell_type": "code",
   "execution_count": 14,
   "id": "11936a94",
   "metadata": {},
   "outputs": [
    {
     "data": {
      "text/plain": [
       "2"
      ]
     },
     "execution_count": 14,
     "metadata": {},
     "output_type": "execute_result"
    }
   ],
   "source": [
    "round(3/2)"
   ]
  },
  {
   "cell_type": "code",
   "execution_count": 15,
   "id": "1740322a",
   "metadata": {},
   "outputs": [
    {
     "data": {
      "text/plain": [
       "2"
      ]
     },
     "execution_count": 15,
     "metadata": {},
     "output_type": "execute_result"
    }
   ],
   "source": [
    "round(5/2)"
   ]
  },
  {
   "cell_type": "code",
   "execution_count": 16,
   "id": "4e448175",
   "metadata": {},
   "outputs": [],
   "source": [
    "round?"
   ]
  },
  {
   "cell_type": "code",
   "execution_count": 28,
   "id": "58f55703",
   "metadata": {},
   "outputs": [
    {
     "name": "stdout",
     "output_type": "stream",
     "text": [
      "21\n",
      "<function A.__init__.<locals>.<lambda> at 0x10ba9b520>\n",
      "<function A.__add__ at 0x10ba9a9e0>\n",
      "16\n"
     ]
    },
    {
     "data": {
      "text/plain": [
       "0"
      ]
     },
     "execution_count": 28,
     "metadata": {},
     "output_type": "execute_result"
    }
   ],
   "source": [
    "\n",
    "class A:\n",
    "    answer = 42    \n",
    "    \n",
    "    def __init__(self):\n",
    "        self.answer = 21\n",
    "        self.__add__ = lambda x, y: x.answer + y    \n",
    "    \n",
    "    def __add__(self, y):\n",
    "        if isinstance(y, self.__class__):\n",
    "            y = y.answer\n",
    "        return self.answer - y\n",
    "\n",
    "    \n",
    "a = A()\n",
    "b = A()\n",
    "a +  5\n",
    "print(a.answer)\n",
    "print(a.__add__)\n",
    "print(A.__add__)\n",
    "print(A() + 5)\n",
    "\n",
    "A.__add__(a, 5)\n",
    "\n",
    "a + b"
   ]
  },
  {
   "cell_type": "code",
   "execution_count": 17,
   "id": "82327a50",
   "metadata": {},
   "outputs": [
    {
     "data": {
      "text/plain": [
       "3"
      ]
     },
     "execution_count": 17,
     "metadata": {},
     "output_type": "execute_result"
    }
   ],
   "source": [
    "sum([1, 2])"
   ]
  },
  {
   "cell_type": "code",
   "execution_count": 18,
   "id": "d2d89890",
   "metadata": {},
   "outputs": [
    {
     "data": {
      "text/plain": [
       "0"
      ]
     },
     "execution_count": 18,
     "metadata": {},
     "output_type": "execute_result"
    }
   ],
   "source": [
    "sum(\"\")"
   ]
  },
  {
   "cell_type": "code",
   "execution_count": 19,
   "id": "56024130",
   "metadata": {},
   "outputs": [
    {
     "data": {
      "text/plain": [
       "[]"
      ]
     },
     "execution_count": 19,
     "metadata": {},
     "output_type": "execute_result"
    }
   ],
   "source": [
    "sum(\"\", [])"
   ]
  },
  {
   "cell_type": "code",
   "execution_count": 20,
   "id": "e6190c73",
   "metadata": {},
   "outputs": [],
   "source": [
    "sum?"
   ]
  },
  {
   "cell_type": "code",
   "execution_count": 31,
   "id": "e69622b6",
   "metadata": {},
   "outputs": [
    {
     "data": {
      "text/plain": [
       "-0.0"
      ]
     },
     "execution_count": 31,
     "metadata": {},
     "output_type": "execute_result"
    }
   ],
   "source": [
    "max(-0.0, 0.0)"
   ]
  },
  {
   "cell_type": "code",
   "execution_count": 34,
   "id": "81d03b52",
   "metadata": {},
   "outputs": [],
   "source": [
    "max?"
   ]
  },
  {
   "cell_type": "code",
   "execution_count": 35,
   "id": "b53196a7",
   "metadata": {},
   "outputs": [
    {
     "data": {
      "text/plain": [
       "16"
      ]
     },
     "execution_count": 35,
     "metadata": {},
     "output_type": "execute_result"
    }
   ],
   "source": [
    "1 << 4"
   ]
  },
  {
   "cell_type": "code",
   "execution_count": 38,
   "id": "05fb6fdd",
   "metadata": {},
   "outputs": [],
   "source": [
    "x = (1 << 53) + 1"
   ]
  },
  {
   "cell_type": "code",
   "execution_count": 43,
   "id": "f06ff76e",
   "metadata": {},
   "outputs": [
    {
     "data": {
      "text/plain": [
       "9007199254740994"
      ]
     },
     "execution_count": 43,
     "metadata": {},
     "output_type": "execute_result"
    }
   ],
   "source": [
    "x +1 "
   ]
  },
  {
   "cell_type": "code",
   "execution_count": 40,
   "id": "834dace7",
   "metadata": {},
   "outputs": [
    {
     "data": {
      "text/plain": [
       "False"
      ]
     },
     "execution_count": 40,
     "metadata": {},
     "output_type": "execute_result"
    }
   ],
   "source": [
    "x + 1.0 > x"
   ]
  },
  {
   "cell_type": "code",
   "execution_count": 41,
   "id": "53b674a0",
   "metadata": {},
   "outputs": [
    {
     "data": {
      "text/plain": [
       "9007199254740992.0"
      ]
     },
     "execution_count": 41,
     "metadata": {},
     "output_type": "execute_result"
    }
   ],
   "source": [
    "x + 1.0"
   ]
  },
  {
   "cell_type": "code",
   "execution_count": 42,
   "id": "428875ec",
   "metadata": {},
   "outputs": [
    {
     "data": {
      "text/plain": [
       "9007199254740992.0"
      ]
     },
     "execution_count": 42,
     "metadata": {},
     "output_type": "execute_result"
    }
   ],
   "source": [
    "x + 0.0"
   ]
  },
  {
   "cell_type": "markdown",
   "id": "fe489b79",
   "metadata": {},
   "source": [
    "https://medium.com/@saint_sdmn/10-hardest-python-questions-98986c8cd309"
   ]
  },
  {
   "cell_type": "code",
   "execution_count": 45,
   "id": "95989c00",
   "metadata": {},
   "outputs": [],
   "source": [
    "x = float('inf')"
   ]
  },
  {
   "cell_type": "code",
   "execution_count": 49,
   "id": "64eefed5",
   "metadata": {},
   "outputs": [],
   "source": [
    "n = x / x"
   ]
  },
  {
   "cell_type": "code",
   "execution_count": 50,
   "id": "860f14c6",
   "metadata": {},
   "outputs": [
    {
     "data": {
      "text/plain": [
       "nan"
      ]
     },
     "execution_count": 50,
     "metadata": {},
     "output_type": "execute_result"
    }
   ],
   "source": [
    "n"
   ]
  },
  {
   "cell_type": "code",
   "execution_count": 51,
   "id": "24f4ad09",
   "metadata": {},
   "outputs": [
    {
     "data": {
      "text/plain": [
       "True"
      ]
     },
     "execution_count": 51,
     "metadata": {},
     "output_type": "execute_result"
    }
   ],
   "source": [
    "float(\"-inf\") < 10 < float(\"inf\")"
   ]
  },
  {
   "cell_type": "code",
   "execution_count": 52,
   "id": "ff6dfcc6",
   "metadata": {},
   "outputs": [
    {
     "data": {
      "text/plain": [
       "False"
      ]
     },
     "execution_count": 52,
     "metadata": {},
     "output_type": "execute_result"
    }
   ],
   "source": [
    "float(\"-inf\") < n < float(\"inf\")"
   ]
  },
  {
   "cell_type": "code",
   "execution_count": 53,
   "id": "9a0328cc",
   "metadata": {},
   "outputs": [
    {
     "data": {
      "text/plain": [
       "True"
      ]
     },
     "execution_count": 53,
     "metadata": {},
     "output_type": "execute_result"
    }
   ],
   "source": [
    "1 == 1"
   ]
  },
  {
   "cell_type": "code",
   "execution_count": 54,
   "id": "094aa70f",
   "metadata": {},
   "outputs": [
    {
     "data": {
      "text/plain": [
       "True"
      ]
     },
     "execution_count": 54,
     "metadata": {},
     "output_type": "execute_result"
    }
   ],
   "source": [
    "float('inf') == float('inf')"
   ]
  },
  {
   "cell_type": "code",
   "execution_count": 55,
   "id": "c8c1dd96",
   "metadata": {},
   "outputs": [
    {
     "data": {
      "text/plain": [
       "False"
      ]
     },
     "execution_count": 55,
     "metadata": {},
     "output_type": "execute_result"
    }
   ],
   "source": [
    "n == n"
   ]
  },
  {
   "cell_type": "markdown",
   "id": "ec088075",
   "metadata": {},
   "source": [
    "## slots"
   ]
  },
  {
   "cell_type": "code",
   "execution_count": 56,
   "id": "b42dc519",
   "metadata": {},
   "outputs": [],
   "source": [
    "class NormalClass:\n",
    "    classattr = \"foo\"\n",
    "    def __init__(self):\n",
    "        self.x = 1\n",
    "        self.y = 2"
   ]
  },
  {
   "cell_type": "code",
   "execution_count": 57,
   "id": "ee937757",
   "metadata": {},
   "outputs": [
    {
     "data": {
      "text/plain": [
       "{'x': 1, 'y': 2}"
      ]
     },
     "execution_count": 57,
     "metadata": {},
     "output_type": "execute_result"
    }
   ],
   "source": [
    "n = NormalClass()\n",
    "n.__dict__"
   ]
  },
  {
   "cell_type": "code",
   "execution_count": 59,
   "id": "d340c3e1",
   "metadata": {},
   "outputs": [],
   "source": [
    "n.a = 10"
   ]
  },
  {
   "cell_type": "code",
   "execution_count": 60,
   "id": "fa91ea5a",
   "metadata": {},
   "outputs": [
    {
     "data": {
      "text/plain": [
       "{'x': 1, 'y': 2, 'a': 10}"
      ]
     },
     "execution_count": 60,
     "metadata": {},
     "output_type": "execute_result"
    }
   ],
   "source": [
    "n.__dict__"
   ]
  },
  {
   "cell_type": "code",
   "execution_count": 73,
   "id": "0ccf050f",
   "metadata": {},
   "outputs": [],
   "source": [
    "class NormalClass:\n",
    "    __slots__ = (\"x\", \"y\")\n",
    "    classattr = \"foo\"\n",
    "    def __init__(self, podstawowa, rozszerzona):\n",
    "        self.x = podstawowa\n",
    "        self.y = rozszerzona\n",
    "    \n",
    "\n",
    "    def get_primary(self, rozszerzona):\n",
    "        if rozszerzona == self.y:\n",
    "            return self.x"
   ]
  },
  {
   "cell_type": "code",
   "execution_count": 74,
   "id": "2e2f5d24",
   "metadata": {},
   "outputs": [
    {
     "data": {
      "text/plain": [
       "'Tadeusz'"
      ]
     },
     "execution_count": 74,
     "metadata": {},
     "output_type": "execute_result"
    }
   ],
   "source": [
    "n = NormalClass(\"Tadeusz\", \"Tadeusza\")\n",
    "\n",
    "text = \"Tadeusza\"\n",
    "\n",
    "n.get_primary(text)\n",
    "\n",
    "    \n"
   ]
  },
  {
   "cell_type": "code",
   "execution_count": 70,
   "id": "63cce4fc",
   "metadata": {},
   "outputs": [
    {
     "data": {
      "text/plain": [
       "'Tadeusza'"
      ]
     },
     "execution_count": 70,
     "metadata": {},
     "output_type": "execute_result"
    }
   ],
   "source": [
    "n.y"
   ]
  },
  {
   "cell_type": "code",
   "execution_count": 75,
   "id": "34012585",
   "metadata": {},
   "outputs": [
    {
     "ename": "AttributeError",
     "evalue": "'NormalClass' object has no attribute 'a'",
     "output_type": "error",
     "traceback": [
      "\u001b[0;31m---------------------------------------------------------------------------\u001b[0m",
      "\u001b[0;31mAttributeError\u001b[0m                            Traceback (most recent call last)",
      "Input \u001b[0;32mIn [75]\u001b[0m, in \u001b[0;36m<cell line: 1>\u001b[0;34m()\u001b[0m\n\u001b[0;32m----> 1\u001b[0m n\u001b[38;5;241m.\u001b[39ma \u001b[38;5;241m=\u001b[39m \u001b[38;5;241m10\u001b[39m\n",
      "\u001b[0;31mAttributeError\u001b[0m: 'NormalClass' object has no attribute 'a'"
     ]
    }
   ],
   "source": [
    "n.a = 10"
   ]
  },
  {
   "cell_type": "code",
   "execution_count": 81,
   "id": "fec9c4ec",
   "metadata": {},
   "outputs": [],
   "source": [
    "class A:\n",
    "    def foo(self):\n",
    "        print(\"foo from A\")\n",
    "        \n",
    "class B():\n",
    "    def foo(self):\n",
    "        print(\"foo from B\")\n",
    "\n",
    "class C:\n",
    "    def foo(self):\n",
    "        print(\"foo from C\")\n",
    "        \n",
    "class D(A, B, C):\n",
    "    pass\n",
    "\n",
    "\n",
    "d = D()"
   ]
  },
  {
   "cell_type": "code",
   "execution_count": 79,
   "id": "04afda2f",
   "metadata": {},
   "outputs": [
    {
     "data": {
      "text/plain": [
       "[__main__.D, __main__.A, __main__.B, __main__.C, object]"
      ]
     },
     "execution_count": 79,
     "metadata": {},
     "output_type": "execute_result"
    }
   ],
   "source": [
    "D.mro()"
   ]
  },
  {
   "cell_type": "markdown",
   "id": "d92ded3e",
   "metadata": {},
   "source": [
    "## interfejs, metody abstrakcyjne"
   ]
  },
  {
   "cell_type": "code",
   "execution_count": 87,
   "id": "f3aeeaf1",
   "metadata": {
    "code_folding": [
     21
    ]
   },
   "outputs": [
    {
     "name": "stdout",
     "output_type": "stream",
     "text": [
      "eat\n",
      "move\n",
      "dog sleep\n",
      "cat eat\n",
      "cat move\n",
      "%cat sleep\n"
     ]
    }
   ],
   "source": [
    "from abc import ABC, abstractmethod\n",
    "\n",
    "class Animal(ABC):\n",
    "    \n",
    "    @abstractmethod\n",
    "    def eat(self, food): pass\n",
    "    \n",
    "    @abstractmethod\n",
    "    def move(self): pass\n",
    "    \n",
    "    @abstractmethod\n",
    "    def sleep(self): pass\n",
    "    \n",
    "    \n",
    "class Dog(Animal):\n",
    "    def eat(self, food): print(\"eat\")\n",
    "    \n",
    "    def move(self): print(\"move\")\n",
    "    \n",
    "    def sleep(self): print(\"dog sleep\")\n",
    "\n",
    "class Cat(Animal):\n",
    "    def eat(self, food): print(\"cat eat\")\n",
    "    \n",
    "    def move(self): print(\"cat move\")\n",
    "    \n",
    "    def sleep(self): print(\"%cat sleep\")\n",
    "\n",
    "class Zoo:\n",
    "    def __init__(self):\n",
    "        self.animals: List[Animal] = []\n",
    "   \n",
    "    def add_pet(self, pet: Animal):\n",
    "        self.animals.append(pet)\n",
    "        \n",
    "        \n",
    "d = Dog()\n",
    "d.eat(\"banana\")\n",
    "d.move()\n",
    "d.sleep()\n",
    "c = Cat()\n",
    "c.eat(\"banana\")\n",
    "c.move()\n",
    "c.sleep()\n"
   ]
  },
  {
   "cell_type": "code",
   "execution_count": 88,
   "id": "6d3d7be1",
   "metadata": {},
   "outputs": [
    {
     "ename": "TypeError",
     "evalue": "Can't instantiate abstract class Animal with abstract methods eat, move, sleep",
     "output_type": "error",
     "traceback": [
      "\u001b[0;31m---------------------------------------------------------------------------\u001b[0m",
      "\u001b[0;31mTypeError\u001b[0m                                 Traceback (most recent call last)",
      "Input \u001b[0;32mIn [88]\u001b[0m, in \u001b[0;36m<cell line: 1>\u001b[0;34m()\u001b[0m\n\u001b[0;32m----> 1\u001b[0m a \u001b[38;5;241m=\u001b[39m \u001b[43mAnimal\u001b[49m\u001b[43m(\u001b[49m\u001b[43m)\u001b[49m\n",
      "\u001b[0;31mTypeError\u001b[0m: Can't instantiate abstract class Animal with abstract methods eat, move, sleep"
     ]
    }
   ],
   "source": [
    "a = Animal()"
   ]
  },
  {
   "cell_type": "code",
   "execution_count": 89,
   "id": "42a95a29",
   "metadata": {},
   "outputs": [],
   "source": [
    "class BarkMixin:\n",
    "    \n",
    "    def bark(self):\n",
    "        print(f\"{self.name} barking...\")\n",
    "        \n",
    "        \n",
    "class Dog(Animal, BarkMixin):\n",
    "    def __init__(self, name):\n",
    "        self.name = name\n",
    "    \n",
    "    def eat(self, food): print(\"eat\")\n",
    "    \n",
    "    def move(self): print(\"move\")\n",
    "    \n",
    "    def sleep(self): print(\"dog sleep\")\n"
   ]
  },
  {
   "cell_type": "code",
   "execution_count": 92,
   "id": "d08cffea",
   "metadata": {},
   "outputs": [
    {
     "name": "stdout",
     "output_type": "stream",
     "text": [
      "4\n"
     ]
    }
   ],
   "source": [
    "a = [1, 2,3 ,4 ]\n",
    "\n",
    "if (\n",
    "    := len(a)) > 3: print(n)  # walrus opeator"
   ]
  },
  {
   "cell_type": "code",
   "execution_count": 93,
   "id": "effb7179",
   "metadata": {},
   "outputs": [
    {
     "name": "stdout",
     "output_type": "stream",
     "text": [
      "1\n",
      "2\n",
      "3\n",
      "4\n",
      "4\n"
     ]
    }
   ],
   "source": [
    "for i in a: print(i)\n",
    "    \n",
    "print(i)"
   ]
  },
  {
   "cell_type": "code",
   "execution_count": 95,
   "id": "cbc9d70e",
   "metadata": {},
   "outputs": [
    {
     "name": "stdout",
     "output_type": "stream",
     "text": [
      "10 0\n",
      "11 1\n",
      "12 2\n",
      "13 3\n",
      "14 4\n"
     ]
    }
   ],
   "source": [
    "\n",
    "for i,v in enumerate(range(5), start=10):\n",
    "    print(i, v)"
   ]
  },
  {
   "cell_type": "markdown",
   "id": "a3081976",
   "metadata": {},
   "source": [
    "## przestrzen wbudowane"
   ]
  },
  {
   "cell_type": "code",
   "execution_count": 97,
   "id": "4ba8976f",
   "metadata": {},
   "outputs": [
    {
     "data": {
      "text/plain": [
       "['ArithmeticError',\n",
       " 'AssertionError',\n",
       " 'AttributeError',\n",
       " 'BaseException',\n",
       " 'BlockingIOError',\n",
       " 'BrokenPipeError',\n",
       " 'BufferError',\n",
       " 'BytesWarning',\n",
       " 'ChildProcessError',\n",
       " 'ConnectionAbortedError',\n",
       " 'ConnectionError',\n",
       " 'ConnectionRefusedError',\n",
       " 'ConnectionResetError',\n",
       " 'DeprecationWarning',\n",
       " 'EOFError',\n",
       " 'Ellipsis',\n",
       " 'EncodingWarning',\n",
       " 'EnvironmentError',\n",
       " 'Exception',\n",
       " 'False',\n",
       " 'FileExistsError',\n",
       " 'FileNotFoundError',\n",
       " 'FloatingPointError',\n",
       " 'FutureWarning',\n",
       " 'GeneratorExit',\n",
       " 'IOError',\n",
       " 'ImportError',\n",
       " 'ImportWarning',\n",
       " 'IndentationError',\n",
       " 'IndexError',\n",
       " 'InterruptedError',\n",
       " 'IsADirectoryError',\n",
       " 'KeyError',\n",
       " 'KeyboardInterrupt',\n",
       " 'LookupError',\n",
       " 'MemoryError',\n",
       " 'ModuleNotFoundError',\n",
       " 'NameError',\n",
       " 'None',\n",
       " 'NotADirectoryError',\n",
       " 'NotImplemented',\n",
       " 'NotImplementedError',\n",
       " 'OSError',\n",
       " 'OverflowError',\n",
       " 'PendingDeprecationWarning',\n",
       " 'PermissionError',\n",
       " 'ProcessLookupError',\n",
       " 'RecursionError',\n",
       " 'ReferenceError',\n",
       " 'ResourceWarning',\n",
       " 'RuntimeError',\n",
       " 'RuntimeWarning',\n",
       " 'StopAsyncIteration',\n",
       " 'StopIteration',\n",
       " 'SyntaxError',\n",
       " 'SyntaxWarning',\n",
       " 'SystemError',\n",
       " 'SystemExit',\n",
       " 'TabError',\n",
       " 'TimeoutError',\n",
       " 'True',\n",
       " 'TypeError',\n",
       " 'UnboundLocalError',\n",
       " 'UnicodeDecodeError',\n",
       " 'UnicodeEncodeError',\n",
       " 'UnicodeError',\n",
       " 'UnicodeTranslateError',\n",
       " 'UnicodeWarning',\n",
       " 'UserWarning',\n",
       " 'ValueError',\n",
       " 'Warning',\n",
       " 'ZeroDivisionError',\n",
       " '__IPYTHON__',\n",
       " '__build_class__',\n",
       " '__debug__',\n",
       " '__doc__',\n",
       " '__import__',\n",
       " '__loader__',\n",
       " '__name__',\n",
       " '__package__',\n",
       " '__spec__',\n",
       " 'abs',\n",
       " 'aiter',\n",
       " 'all',\n",
       " 'anext',\n",
       " 'any',\n",
       " 'ascii',\n",
       " 'bin',\n",
       " 'bool',\n",
       " 'breakpoint',\n",
       " 'bytearray',\n",
       " 'bytes',\n",
       " 'callable',\n",
       " 'chr',\n",
       " 'classmethod',\n",
       " 'compile',\n",
       " 'complex',\n",
       " 'copyright',\n",
       " 'credits',\n",
       " 'delattr',\n",
       " 'dict',\n",
       " 'dir',\n",
       " 'display',\n",
       " 'divmod',\n",
       " 'enumerate',\n",
       " 'eval',\n",
       " 'exec',\n",
       " 'execfile',\n",
       " 'filter',\n",
       " 'float',\n",
       " 'format',\n",
       " 'frozenset',\n",
       " 'get_ipython',\n",
       " 'getattr',\n",
       " 'globals',\n",
       " 'hasattr',\n",
       " 'hash',\n",
       " 'help',\n",
       " 'hex',\n",
       " 'id',\n",
       " 'input',\n",
       " 'int',\n",
       " 'isinstance',\n",
       " 'issubclass',\n",
       " 'iter',\n",
       " 'len',\n",
       " 'license',\n",
       " 'list',\n",
       " 'locals',\n",
       " 'map',\n",
       " 'max',\n",
       " 'memoryview',\n",
       " 'min',\n",
       " 'next',\n",
       " 'object',\n",
       " 'oct',\n",
       " 'open',\n",
       " 'ord',\n",
       " 'pow',\n",
       " 'print',\n",
       " 'property',\n",
       " 'range',\n",
       " 'repr',\n",
       " 'reversed',\n",
       " 'round',\n",
       " 'runfile',\n",
       " 'set',\n",
       " 'setattr',\n",
       " 'slice',\n",
       " 'sorted',\n",
       " 'staticmethod',\n",
       " 'str',\n",
       " 'sum',\n",
       " 'super',\n",
       " 'tuple',\n",
       " 'type',\n",
       " 'vars',\n",
       " 'zip']"
      ]
     },
     "execution_count": 97,
     "metadata": {},
     "output_type": "execute_result"
    }
   ],
   "source": [
    "dir(__builtin__)"
   ]
  },
  {
   "cell_type": "markdown",
   "id": "c5a75a93",
   "metadata": {},
   "source": [
    "### wyjatki"
   ]
  },
  {
   "cell_type": "markdown",
   "id": "f86d1331",
   "metadata": {},
   "source": [
    "### stałe - constants"
   ]
  },
  {
   "cell_type": "code",
   "execution_count": 99,
   "id": "4f71a66a",
   "metadata": {},
   "outputs": [
    {
     "data": {
      "text/plain": [
       "(True, False, None, Ellipsis, Ellipsis, NotImplemented)"
      ]
     },
     "execution_count": 99,
     "metadata": {},
     "output_type": "execute_result"
    }
   ],
   "source": [
    "True, False, None, Ellipsis, ..., NotImplemented\n"
   ]
  },
  {
   "cell_type": "code",
   "execution_count": 101,
   "id": "332bd7be",
   "metadata": {},
   "outputs": [
    {
     "ename": "TypeError",
     "evalue": "unsupported operand type(s) for +: 'MyNumber' and 'float'",
     "output_type": "error",
     "traceback": [
      "\u001b[0;31m---------------------------------------------------------------------------\u001b[0m",
      "\u001b[0;31mTypeError\u001b[0m                                 Traceback (most recent call last)",
      "Input \u001b[0;32mIn [101]\u001b[0m, in \u001b[0;36m<cell line: 7>\u001b[0;34m()\u001b[0m\n\u001b[1;32m      5\u001b[0m         \u001b[38;5;28;01mreturn\u001b[39;00m other \u001b[38;5;241m+\u001b[39m \u001b[38;5;241m42\u001b[39m\n\u001b[1;32m      6\u001b[0m x \u001b[38;5;241m=\u001b[39m MyNumber()\n\u001b[0;32m----> 7\u001b[0m \u001b[43mx\u001b[49m\u001b[43m \u001b[49m\u001b[38;5;241;43m+\u001b[39;49m\u001b[43m \u001b[49m\u001b[38;5;241;43m1.2\u001b[39;49m\n",
      "\u001b[0;31mTypeError\u001b[0m: unsupported operand type(s) for +: 'MyNumber' and 'float'"
     ]
    }
   ],
   "source": [
    "class MyNumber:\n",
    "    def __add__(self, other):\n",
    "        if isinstance(other, float):\n",
    "            return NotImplemented\n",
    "        return other + 42\n",
    "x = MyNumber()\n",
    "x + 1.2"
   ]
  },
  {
   "cell_type": "markdown",
   "id": "3e234307",
   "metadata": {},
   "source": [
    "### globals\n"
   ]
  },
  {
   "cell_type": "code",
   "execution_count": 102,
   "id": "a4bcb02c",
   "metadata": {},
   "outputs": [
    {
     "data": {
      "text/plain": [
       "'__main__'"
      ]
     },
     "execution_count": 102,
     "metadata": {},
     "output_type": "execute_result"
    }
   ],
   "source": [
    "__name__"
   ]
  },
  {
   "cell_type": "code",
   "execution_count": 103,
   "id": "8c9da7ae",
   "metadata": {},
   "outputs": [
    {
     "data": {
      "text/plain": [
       "True"
      ]
     },
     "execution_count": 103,
     "metadata": {},
     "output_type": "execute_result"
    }
   ],
   "source": [
    "__debug__"
   ]
  },
  {
   "cell_type": "code",
   "execution_count": 105,
   "id": "2178060d",
   "metadata": {},
   "outputs": [
    {
     "name": "stdout",
     "output_type": "stream",
     "text": [
      "Hello world!\n"
     ]
    }
   ],
   "source": [
    "import __hello__"
   ]
  },
  {
   "cell_type": "code",
   "execution_count": 106,
   "id": "08dea62a",
   "metadata": {},
   "outputs": [
    {
     "name": "stdout",
     "output_type": "stream",
     "text": [
      "The Zen of Python, by Tim Peters\n",
      "\n",
      "Beautiful is better than ugly.\n",
      "Explicit is better than implicit.\n",
      "Simple is better than complex.\n",
      "Complex is better than complicated.\n",
      "Flat is better than nested.\n",
      "Sparse is better than dense.\n",
      "Readability counts.\n",
      "Special cases aren't special enough to break the rules.\n",
      "Although practicality beats purity.\n",
      "Errors should never pass silently.\n",
      "Unless explicitly silenced.\n",
      "In the face of ambiguity, refuse the temptation to guess.\n",
      "There should be one-- and preferably only one --obvious way to do it.\n",
      "Although that way may not be obvious at first unless you're Dutch.\n",
      "Now is better than never.\n",
      "Although never is often better than *right* now.\n",
      "If the implementation is hard to explain, it's a bad idea.\n",
      "If the implementation is easy to explain, it may be a good idea.\n",
      "Namespaces are one honking great idea -- let's do more of those!\n"
     ]
    }
   ],
   "source": [
    "import this"
   ]
  },
  {
   "cell_type": "markdown",
   "id": "fb4a6141",
   "metadata": {},
   "source": [
    "### ciekawsze funkcje"
   ]
  },
  {
   "cell_type": "code",
   "execution_count": 108,
   "id": "9d08c64c",
   "metadata": {},
   "outputs": [
    {
     "name": "stdout",
     "output_type": "stream",
     "text": [
      "[1, 2]\n"
     ]
    }
   ],
   "source": [
    "code = '''\n",
    "x = [1, 2]\n",
    "print(x)\n",
    "'''\n",
    "\n",
    "exec(code)"
   ]
  },
  {
   "cell_type": "code",
   "execution_count": 110,
   "id": "d157579b",
   "metadata": {},
   "outputs": [
    {
     "data": {
      "text/plain": [
       "2"
      ]
     },
     "execution_count": 110,
     "metadata": {},
     "output_type": "execute_result"
    }
   ],
   "source": [
    "eval(\"1 + 1\")"
   ]
  },
  {
   "cell_type": "code",
   "execution_count": 111,
   "id": "7ca6243e",
   "metadata": {},
   "outputs": [
    {
     "ename": "SyntaxError",
     "evalue": "invalid syntax (<string>, line 2)",
     "output_type": "error",
     "traceback": [
      "Traceback \u001b[0;36m(most recent call last)\u001b[0m:\n",
      "  File \u001b[1;32m/usr/local/lib/python3.10/site-packages/IPython/core/interactiveshell.py:3398\u001b[0m in \u001b[1;35mrun_code\u001b[0m\n    exec(code_obj, self.user_global_ns, self.user_ns)\n",
      "\u001b[0;36m  Input \u001b[0;32mIn [111]\u001b[0;36m in \u001b[0;35m<cell line: 1>\u001b[0;36m\u001b[0m\n\u001b[0;31m    eval(code)\u001b[0m\n",
      "\u001b[0;36m  File \u001b[0;32m<string>:2\u001b[0;36m\u001b[0m\n\u001b[0;31m    x = [1, 2]\u001b[0m\n\u001b[0m      ^\u001b[0m\n\u001b[0;31mSyntaxError\u001b[0m\u001b[0;31m:\u001b[0m invalid syntax\n"
     ]
    }
   ],
   "source": [
    "eval(code)"
   ]
  },
  {
   "cell_type": "code",
   "execution_count": 109,
   "id": "169979fd",
   "metadata": {},
   "outputs": [
    {
     "name": "stdout",
     "output_type": "stream",
     "text": [
      "Help on ellipsis object:\n",
      "\n",
      "class ellipsis(object)\n",
      " |  Methods defined here:\n",
      " |  \n",
      " |  __getattribute__(self, name, /)\n",
      " |      Return getattr(self, name).\n",
      " |  \n",
      " |  __reduce__(...)\n",
      " |      Helper for pickle.\n",
      " |  \n",
      " |  __repr__(self, /)\n",
      " |      Return repr(self).\n",
      " |  \n",
      " |  ----------------------------------------------------------------------\n",
      " |  Static methods defined here:\n",
      " |  \n",
      " |  __new__(*args, **kwargs) from builtins.type\n",
      " |      Create and return a new object.  See help(type) for accurate signature.\n",
      "\n"
     ]
    }
   ],
   "source": [
    "help(Ellipsis)"
   ]
  },
  {
   "cell_type": "code",
   "execution_count": 112,
   "id": "b688689b",
   "metadata": {},
   "outputs": [
    {
     "data": {
      "text/plain": [
       "(str, bytes, int, bool, float, complex)"
      ]
     },
     "execution_count": 112,
     "metadata": {},
     "output_type": "execute_result"
    }
   ],
   "source": [
    "str, bytes, int, bool, float, complex\n",
    "    \n",
    "    "
   ]
  },
  {
   "cell_type": "code",
   "execution_count": 114,
   "id": "ee42eb1b",
   "metadata": {},
   "outputs": [
    {
     "data": {
      "text/plain": [
       "b'ala ma kota'"
      ]
     },
     "execution_count": 114,
     "metadata": {},
     "output_type": "execute_result"
    }
   ],
   "source": [
    "bytes(\"ala ma kota\", encoding=\"utf-8\")"
   ]
  },
  {
   "cell_type": "code",
   "execution_count": 115,
   "id": "6ad63725",
   "metadata": {},
   "outputs": [
    {
     "data": {
      "text/plain": [
       "b'Za\\xc5\\xbc\\xc3\\xb3\\xc5\\x82 g\\xc4\\x99\\xc5\\x9bl\\xc4\\x85 ja\\xc5\\xba\\xc5\\x84'"
      ]
     },
     "execution_count": 115,
     "metadata": {},
     "output_type": "execute_result"
    }
   ],
   "source": [
    "bytes(\"Zażół gęślą jaźń\", encoding=\"utf-8\")"
   ]
  },
  {
   "cell_type": "code",
   "execution_count": 117,
   "id": "06f65387",
   "metadata": {},
   "outputs": [
    {
     "data": {
      "text/plain": [
       "b'Za\\xbf\\xf3\\xb3 g\\xea\\x9cl\\xb9 ja\\x9f\\xf1'"
      ]
     },
     "execution_count": 117,
     "metadata": {},
     "output_type": "execute_result"
    }
   ],
   "source": [
    "bytes(\"Zażół gęślą jaźń\", encoding=\"CP1250\")"
   ]
  },
  {
   "cell_type": "code",
   "execution_count": 120,
   "id": "6a20be02",
   "metadata": {},
   "outputs": [
    {
     "ename": "UnicodeDecodeError",
     "evalue": "'utf-8' codec can't decode byte 0xbf in position 2: invalid start byte",
     "output_type": "error",
     "traceback": [
      "\u001b[0;31m---------------------------------------------------------------------------\u001b[0m",
      "\u001b[0;31mUnicodeDecodeError\u001b[0m                        Traceback (most recent call last)",
      "Input \u001b[0;32mIn [120]\u001b[0m, in \u001b[0;36m<cell line: 1>\u001b[0;34m()\u001b[0m\n\u001b[0;32m----> 1\u001b[0m \u001b[38;5;124;43mb\u001b[39;49m\u001b[38;5;124;43m'\u001b[39;49m\u001b[38;5;124;43mZa\u001b[39;49m\u001b[38;5;130;43;01m\\xbf\u001b[39;49;00m\u001b[38;5;130;43;01m\\xf3\u001b[39;49;00m\u001b[38;5;130;43;01m\\xb3\u001b[39;49;00m\u001b[38;5;124;43m g\u001b[39;49m\u001b[38;5;130;43;01m\\xea\u001b[39;49;00m\u001b[38;5;130;43;01m\\x9c\u001b[39;49;00m\u001b[38;5;124;43ml\u001b[39;49m\u001b[38;5;130;43;01m\\xb9\u001b[39;49;00m\u001b[38;5;124;43m ja\u001b[39;49m\u001b[38;5;130;43;01m\\x9f\u001b[39;49;00m\u001b[38;5;130;43;01m\\xf1\u001b[39;49;00m\u001b[38;5;124;43m'\u001b[39;49m\u001b[38;5;241;43m.\u001b[39;49m\u001b[43mdecode\u001b[49m\u001b[43m(\u001b[49m\u001b[38;5;124;43m\"\u001b[39;49m\u001b[38;5;124;43mutf-8\u001b[39;49m\u001b[38;5;124;43m\"\u001b[39;49m\u001b[43m)\u001b[49m\n",
      "\u001b[0;31mUnicodeDecodeError\u001b[0m: 'utf-8' codec can't decode byte 0xbf in position 2: invalid start byte"
     ]
    }
   ],
   "source": [
    "b'Za\\xbf\\xf3\\xb3 g\\xea\\x9cl\\xb9 ja\\x9f\\xf1'.decode(\"utf-8\")"
   ]
  },
  {
   "cell_type": "code",
   "execution_count": 121,
   "id": "258c17be",
   "metadata": {},
   "outputs": [
    {
     "data": {
      "text/plain": [
       "(list, tuple, dict, set, frozenset)"
      ]
     },
     "execution_count": 121,
     "metadata": {},
     "output_type": "execute_result"
    }
   ],
   "source": [
    "list, tuple, dict, set, frozenset\n"
   ]
  },
  {
   "cell_type": "code",
   "execution_count": 122,
   "id": "49a96ef6",
   "metadata": {},
   "outputs": [],
   "source": [
    "x = set()\n",
    "x.add(1)"
   ]
  },
  {
   "cell_type": "code",
   "execution_count": 126,
   "id": "7cffe57e",
   "metadata": {},
   "outputs": [],
   "source": [
    "x.add(2)"
   ]
  },
  {
   "cell_type": "code",
   "execution_count": 127,
   "id": "35258061",
   "metadata": {},
   "outputs": [
    {
     "data": {
      "text/plain": [
       "{1, 2}"
      ]
     },
     "execution_count": 127,
     "metadata": {},
     "output_type": "execute_result"
    }
   ],
   "source": [
    "x"
   ]
  },
  {
   "cell_type": "code",
   "execution_count": 128,
   "id": "58aedab5",
   "metadata": {},
   "outputs": [
    {
     "data": {
      "text/plain": [
       "{1, 2, 3}"
      ]
     },
     "execution_count": 128,
     "metadata": {},
     "output_type": "execute_result"
    }
   ],
   "source": [
    "{1, 2 ,3}"
   ]
  },
  {
   "cell_type": "code",
   "execution_count": 130,
   "id": "379dab08",
   "metadata": {},
   "outputs": [
    {
     "data": {
      "text/plain": [
       "frozenset({1, 2, 3})"
      ]
     },
     "execution_count": 130,
     "metadata": {},
     "output_type": "execute_result"
    }
   ],
   "source": [
    "frozenset([1, 2, 3])"
   ]
  },
  {
   "cell_type": "code",
   "execution_count": 131,
   "id": "cb1bac7e",
   "metadata": {},
   "outputs": [
    {
     "data": {
      "text/plain": [
       "(<function oct(number, /)>,\n",
       " <function ord(c, /)>,\n",
       " <function chr(i, /)>,\n",
       " <function ascii(obj, /)>)"
      ]
     },
     "execution_count": 131,
     "metadata": {},
     "output_type": "execute_result"
    }
   ],
   "source": [
    "bin,\n",
    "hex,\n",
    "oct, ord, chr, ascii"
   ]
  },
  {
   "cell_type": "code",
   "execution_count": 132,
   "id": "d8b7fe73",
   "metadata": {},
   "outputs": [
    {
     "data": {
      "text/plain": [
       "'0b10001'"
      ]
     },
     "execution_count": 132,
     "metadata": {},
     "output_type": "execute_result"
    }
   ],
   "source": [
    "bin(17)"
   ]
  },
  {
   "cell_type": "code",
   "execution_count": 133,
   "id": "75c40443",
   "metadata": {},
   "outputs": [
    {
     "data": {
      "text/plain": [
       "1000000"
      ]
     },
     "execution_count": 133,
     "metadata": {},
     "output_type": "execute_result"
    }
   ],
   "source": [
    "100_000_0"
   ]
  },
  {
   "cell_type": "code",
   "execution_count": 134,
   "id": "8dfafd5c",
   "metadata": {},
   "outputs": [
    {
     "data": {
      "text/plain": [
       "15"
      ]
     },
     "execution_count": 134,
     "metadata": {},
     "output_type": "execute_result"
    }
   ],
   "source": [
    "0b1111"
   ]
  },
  {
   "cell_type": "code",
   "execution_count": 135,
   "id": "d0693ef1",
   "metadata": {},
   "outputs": [
    {
     "data": {
      "text/plain": [
       "'0x32'"
      ]
     },
     "execution_count": 135,
     "metadata": {},
     "output_type": "execute_result"
    }
   ],
   "source": [
    "hex(50)"
   ]
  },
  {
   "cell_type": "code",
   "execution_count": 136,
   "id": "511b0fa6",
   "metadata": {},
   "outputs": [
    {
     "data": {
      "text/plain": [
       "'0o12'"
      ]
     },
     "execution_count": 136,
     "metadata": {},
     "output_type": "execute_result"
    }
   ],
   "source": [
    "oct(10)"
   ]
  },
  {
   "cell_type": "code",
   "execution_count": 137,
   "id": "62633c5a",
   "metadata": {},
   "outputs": [
    {
     "data": {
      "text/plain": [
       "'0x3e8'"
      ]
     },
     "execution_count": 137,
     "metadata": {},
     "output_type": "execute_result"
    }
   ],
   "source": [
    "hex(1000)"
   ]
  },
  {
   "cell_type": "code",
   "execution_count": 139,
   "id": "f21466ac",
   "metadata": {},
   "outputs": [
    {
     "data": {
      "text/plain": [
       "90"
      ]
     },
     "execution_count": 139,
     "metadata": {},
     "output_type": "execute_result"
    }
   ],
   "source": [
    "0b0101_1010\n"
   ]
  },
  {
   "cell_type": "code",
   "execution_count": 143,
   "id": "d76327de",
   "metadata": {},
   "outputs": [
    {
     "data": {
      "text/plain": [
       "'p'"
      ]
     },
     "execution_count": 143,
     "metadata": {},
     "output_type": "execute_result"
    }
   ],
   "source": [
    "chr(112)"
   ]
  },
  {
   "cell_type": "code",
   "execution_count": 144,
   "id": "7d57d1d8",
   "metadata": {},
   "outputs": [
    {
     "data": {
      "text/plain": [
       "97"
      ]
     },
     "execution_count": 144,
     "metadata": {},
     "output_type": "execute_result"
    }
   ],
   "source": [
    "ord(\"a\")"
   ]
  },
  {
   "cell_type": "markdown",
   "id": "b20e664c",
   "metadata": {},
   "source": [
    "callable?"
   ]
  },
  {
   "cell_type": "code",
   "execution_count": 150,
   "id": "0ef98d1d",
   "metadata": {},
   "outputs": [
    {
     "data": {
      "text/plain": [
       "True"
      ]
     },
     "execution_count": 150,
     "metadata": {},
     "output_type": "execute_result"
    }
   ],
   "source": [
    "class C:\n",
    "    def __call__(self):\n",
    "        print(\"calling C instance object\")\n",
    "\n",
    "callable(C)"
   ]
  },
  {
   "cell_type": "code",
   "execution_count": 151,
   "id": "846d7182",
   "metadata": {},
   "outputs": [
    {
     "data": {
      "text/plain": [
       "False"
      ]
     },
     "execution_count": 151,
     "metadata": {},
     "output_type": "execute_result"
    }
   ],
   "source": [
    "callable(1)"
   ]
  },
  {
   "cell_type": "code",
   "execution_count": 152,
   "id": "9cc82a68",
   "metadata": {},
   "outputs": [],
   "source": [
    "c = C()"
   ]
  },
  {
   "cell_type": "code",
   "execution_count": 153,
   "id": "717a16e1",
   "metadata": {},
   "outputs": [
    {
     "data": {
      "text/plain": [
       "True"
      ]
     },
     "execution_count": 153,
     "metadata": {},
     "output_type": "execute_result"
    }
   ],
   "source": [
    "callable(c) "
   ]
  },
  {
   "cell_type": "code",
   "execution_count": 155,
   "id": "6cd5bf9c",
   "metadata": {},
   "outputs": [
    {
     "name": "stdout",
     "output_type": "stream",
     "text": [
      "calling C instance object\n"
     ]
    }
   ],
   "source": [
    "c()"
   ]
  },
  {
   "cell_type": "code",
   "execution_count": 156,
   "id": "9ce28cd4",
   "metadata": {},
   "outputs": [],
   "source": [
    "repr?"
   ]
  },
  {
   "cell_type": "code",
   "execution_count": 158,
   "id": "669b2198",
   "metadata": {},
   "outputs": [],
   "source": [
    "str?"
   ]
  },
  {
   "cell_type": "code",
   "execution_count": 159,
   "id": "388a88ed",
   "metadata": {},
   "outputs": [],
   "source": [
    "class Vector:\n",
    "    def __init__(self, x, y):\n",
    "        self.x = x\n",
    "        self.y = y\n",
    "        \n",
    "    def __str__(self):\n",
    "        return f\"({self.x}, {self.y})\"\n",
    "\n",
    "v = Vector(1, 2)"
   ]
  },
  {
   "cell_type": "code",
   "execution_count": 161,
   "id": "2f38682c",
   "metadata": {},
   "outputs": [
    {
     "name": "stdout",
     "output_type": "stream",
     "text": [
      "(1, 2)\n"
     ]
    }
   ],
   "source": [
    "print(v)"
   ]
  },
  {
   "cell_type": "code",
   "execution_count": 162,
   "id": "fbd125dc",
   "metadata": {},
   "outputs": [
    {
     "data": {
      "text/plain": [
       "'(1, 2)'"
      ]
     },
     "execution_count": 162,
     "metadata": {},
     "output_type": "execute_result"
    }
   ],
   "source": [
    "str(v)"
   ]
  },
  {
   "cell_type": "code",
   "execution_count": 163,
   "id": "ff38513e",
   "metadata": {},
   "outputs": [
    {
     "data": {
      "text/plain": [
       "[<__main__.Vector at 0x10bea49a0>,\n",
       " <__main__.Vector at 0x10bea49a0>,\n",
       " <__main__.Vector at 0x10bea49a0>]"
      ]
     },
     "execution_count": 163,
     "metadata": {},
     "output_type": "execute_result"
    }
   ],
   "source": [
    "[v, v, v]"
   ]
  },
  {
   "cell_type": "code",
   "execution_count": 168,
   "id": "f3460bfc",
   "metadata": {},
   "outputs": [],
   "source": [
    "class Vector:\n",
    "    def __init__(self, x, y):\n",
    "        self.x = x\n",
    "        self.y = y\n",
    "        \n",
    "#     def __str__(self):\n",
    "#         return f\"({self.x}, {self.y})\"\n",
    "    \n",
    "    def __repr__(self):\n",
    "        return f\"Vector({self.x}, {self.y})\"\n",
    "\n",
    "v = Vector(1, 2)"
   ]
  },
  {
   "cell_type": "code",
   "execution_count": 169,
   "id": "c90e6d61",
   "metadata": {},
   "outputs": [
    {
     "data": {
      "text/plain": [
       "[Vector(1, 2), Vector(1, 2), Vector(1, 2)]"
      ]
     },
     "execution_count": 169,
     "metadata": {},
     "output_type": "execute_result"
    }
   ],
   "source": [
    "[v, v, v]"
   ]
  },
  {
   "cell_type": "code",
   "execution_count": 170,
   "id": "fbccac6f",
   "metadata": {},
   "outputs": [
    {
     "name": "stdout",
     "output_type": "stream",
     "text": [
      "Vector(1, 2)\n"
     ]
    }
   ],
   "source": [
    "print(v)"
   ]
  },
  {
   "cell_type": "code",
   "execution_count": 171,
   "id": "5cd37d1c",
   "metadata": {},
   "outputs": [
    {
     "data": {
      "text/plain": [
       "<function dir>"
      ]
     },
     "execution_count": 171,
     "metadata": {},
     "output_type": "execute_result"
    }
   ],
   "source": [
    "dir"
   ]
  },
  {
   "cell_type": "code",
   "execution_count": 172,
   "id": "17bf1549",
   "metadata": {},
   "outputs": [
    {
     "data": {
      "text/plain": [
       "['__add__',\n",
       " '__class__',\n",
       " '__contains__',\n",
       " '__delattr__',\n",
       " '__dir__',\n",
       " '__doc__',\n",
       " '__eq__',\n",
       " '__format__',\n",
       " '__ge__',\n",
       " '__getattribute__',\n",
       " '__getitem__',\n",
       " '__getnewargs__',\n",
       " '__gt__',\n",
       " '__hash__',\n",
       " '__init__',\n",
       " '__init_subclass__',\n",
       " '__iter__',\n",
       " '__le__',\n",
       " '__len__',\n",
       " '__lt__',\n",
       " '__mod__',\n",
       " '__mul__',\n",
       " '__ne__',\n",
       " '__new__',\n",
       " '__reduce__',\n",
       " '__reduce_ex__',\n",
       " '__repr__',\n",
       " '__rmod__',\n",
       " '__rmul__',\n",
       " '__setattr__',\n",
       " '__sizeof__',\n",
       " '__str__',\n",
       " '__subclasshook__',\n",
       " 'capitalize',\n",
       " 'casefold',\n",
       " 'center',\n",
       " 'count',\n",
       " 'encode',\n",
       " 'endswith',\n",
       " 'expandtabs',\n",
       " 'find',\n",
       " 'format',\n",
       " 'format_map',\n",
       " 'index',\n",
       " 'isalnum',\n",
       " 'isalpha',\n",
       " 'isascii',\n",
       " 'isdecimal',\n",
       " 'isdigit',\n",
       " 'isidentifier',\n",
       " 'islower',\n",
       " 'isnumeric',\n",
       " 'isprintable',\n",
       " 'isspace',\n",
       " 'istitle',\n",
       " 'isupper',\n",
       " 'join',\n",
       " 'ljust',\n",
       " 'lower',\n",
       " 'lstrip',\n",
       " 'maketrans',\n",
       " 'partition',\n",
       " 'removeprefix',\n",
       " 'removesuffix',\n",
       " 'replace',\n",
       " 'rfind',\n",
       " 'rindex',\n",
       " 'rjust',\n",
       " 'rpartition',\n",
       " 'rsplit',\n",
       " 'rstrip',\n",
       " 'split',\n",
       " 'splitlines',\n",
       " 'startswith',\n",
       " 'strip',\n",
       " 'swapcase',\n",
       " 'title',\n",
       " 'translate',\n",
       " 'upper',\n",
       " 'zfill']"
      ]
     },
     "execution_count": 172,
     "metadata": {},
     "output_type": "execute_result"
    }
   ],
   "source": [
    "dir(\"\")"
   ]
  },
  {
   "cell_type": "code",
   "execution_count": 174,
   "id": "4937f284",
   "metadata": {},
   "outputs": [
    {
     "name": "stdout",
     "output_type": "stream",
     "text": [
      "Help on built-in function find:\n",
      "\n",
      "find(...) method of builtins.str instance\n",
      "    S.find(sub[, start[, end]]) -> int\n",
      "    \n",
      "    Return the lowest index in S where substring sub is found,\n",
      "    such that sub is contained within S[start:end].  Optional\n",
      "    arguments start and end are interpreted as in slice notation.\n",
      "    \n",
      "    Return -1 on failure.\n",
      "\n"
     ]
    }
   ],
   "source": [
    "help(\"\".find)"
   ]
  },
  {
   "cell_type": "code",
   "execution_count": 177,
   "id": "94a0f09a",
   "metadata": {},
   "outputs": [
    {
     "data": {
      "text/plain": [
       "mappingproxy({'__module__': '__main__',\n",
       "              '__call__': <function __main__.C.__call__(self)>,\n",
       "              '__dict__': <attribute '__dict__' of 'C' objects>,\n",
       "              '__weakref__': <attribute '__weakref__' of 'C' objects>,\n",
       "              '__doc__': None})"
      ]
     },
     "execution_count": 177,
     "metadata": {},
     "output_type": "execute_result"
    }
   ],
   "source": [
    "vars(C)"
   ]
  },
  {
   "cell_type": "code",
   "execution_count": 178,
   "id": "3feee9e5",
   "metadata": {},
   "outputs": [],
   "source": [
    "vars?"
   ]
  },
  {
   "cell_type": "markdown",
   "id": "180a085f",
   "metadata": {},
   "source": [
    "https://www.python.org/doc/\n",
    "\n",
    "https://realpython.com/\n",
    "\n",
    "https://www.pythonweekly.com/\n",
    "\n",
    "https://www.coursera.org/\n",
    "\n",
    "http://www.pythonchallenge.com\n",
    "\n",
    "https://projecteuler.net/\n",
    "\n",
    "SPOJ\n"
   ]
  },
  {
   "cell_type": "code",
   "execution_count": null,
   "id": "dedcfb37",
   "metadata": {},
   "outputs": [],
   "source": []
  }
 ],
 "metadata": {
  "kernelspec": {
   "display_name": "Python 3 (ipykernel)",
   "language": "python",
   "name": "python3"
  },
  "language_info": {
   "codemirror_mode": {
    "name": "ipython",
    "version": 3
   },
   "file_extension": ".py",
   "mimetype": "text/x-python",
   "name": "python",
   "nbconvert_exporter": "python",
   "pygments_lexer": "ipython3",
   "version": "3.10.4"
  },
  "toc": {
   "base_numbering": 1,
   "nav_menu": {},
   "number_sections": true,
   "sideBar": true,
   "skip_h1_title": false,
   "title_cell": "Table of Contents",
   "title_sidebar": "Contents",
   "toc_cell": false,
   "toc_position": {},
   "toc_section_display": true,
   "toc_window_display": false
  }
 },
 "nbformat": 4,
 "nbformat_minor": 5
}
